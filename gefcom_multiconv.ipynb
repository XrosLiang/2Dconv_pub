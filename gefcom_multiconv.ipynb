{
 "cells": [
  {
   "cell_type": "code",
   "execution_count": 1,
   "metadata": {},
   "outputs": [],
   "source": [
    "import pandas as pd\n",
    "import numpy as np\n",
    "import tensorflow as tf\n",
    "from tensorflow import keras\n",
    "import matplotlib.pyplot as plt\n",
    "\n"
   ]
  },
  {
   "cell_type": "code",
   "execution_count": 2,
   "metadata": {},
   "outputs": [],
   "source": [
    "# Our handy function for converting our dataset into the correct format\n",
    "\n",
    "def window_data(df, window, feature_col_number, target_col_number):\n",
    "    \"\"\"\n",
    "    This function accepts the column number for the features (X) and the target (y).\n",
    "    It chunks the data up with a rolling window of Xt - window to predict Xt.\n",
    "    It returns two numpy arrays of X and y.\n",
    "    \"\"\"\n",
    "    X = []\n",
    "    y = []\n",
    "    for i in range(len(df) - window - 1):\n",
    "        features = df.iloc[i : (i + window), feature_col_number].values\n",
    "        target = df.iloc[(i + window), target_col_number]\n",
    "        #print(features)\n",
    "        #print(\"----\")\n",
    "        #print(target)\n",
    "        X.append(features)\n",
    "        y.append(target)\n",
    "    return np.array(X), np.array(y).astype(np.float64).reshape(-1, 1)"
   ]
  },
  {
   "cell_type": "code",
   "execution_count": 3,
   "metadata": {},
   "outputs": [
    {
     "data": {
      "text/html": [
       "<div>\n",
       "<style scoped>\n",
       "    .dataframe tbody tr th:only-of-type {\n",
       "        vertical-align: middle;\n",
       "    }\n",
       "\n",
       "    .dataframe tbody tr th {\n",
       "        vertical-align: top;\n",
       "    }\n",
       "\n",
       "    .dataframe thead th {\n",
       "        text-align: right;\n",
       "    }\n",
       "</style>\n",
       "<table border=\"1\" class=\"dataframe\">\n",
       "  <thead>\n",
       "    <tr style=\"text-align: right;\">\n",
       "      <th></th>\n",
       "      <th>Unnamed: 0</th>\n",
       "      <th>RTDemand</th>\n",
       "      <th>DADemand</th>\n",
       "      <th>DALMP</th>\n",
       "      <th>DAEC</th>\n",
       "      <th>DACC</th>\n",
       "      <th>DAMLC</th>\n",
       "      <th>RTLMP</th>\n",
       "      <th>RTEC</th>\n",
       "      <th>RTCC</th>\n",
       "      <th>RTMLC</th>\n",
       "      <th>DryBulb</th>\n",
       "      <th>DewPoint</th>\n",
       "      <th>ZONE</th>\n",
       "    </tr>\n",
       "    <tr>\n",
       "      <th>Date</th>\n",
       "      <th></th>\n",
       "      <th></th>\n",
       "      <th></th>\n",
       "      <th></th>\n",
       "      <th></th>\n",
       "      <th></th>\n",
       "      <th></th>\n",
       "      <th></th>\n",
       "      <th></th>\n",
       "      <th></th>\n",
       "      <th></th>\n",
       "      <th></th>\n",
       "      <th></th>\n",
       "      <th></th>\n",
       "    </tr>\n",
       "  </thead>\n",
       "  <tbody>\n",
       "    <tr>\n",
       "      <th>2011-01-01 00:00:00</th>\n",
       "      <td>0</td>\n",
       "      <td>12055.0</td>\n",
       "      <td>11722.0</td>\n",
       "      <td>38.51</td>\n",
       "      <td>38.37</td>\n",
       "      <td>0.00</td>\n",
       "      <td>0.14</td>\n",
       "      <td>41.57</td>\n",
       "      <td>41.48</td>\n",
       "      <td>0.0</td>\n",
       "      <td>0.09</td>\n",
       "      <td>36.0</td>\n",
       "      <td>29.0</td>\n",
       "      <td>1</td>\n",
       "    </tr>\n",
       "    <tr>\n",
       "      <th>2011-01-01 01:00:00</th>\n",
       "      <td>1</td>\n",
       "      <td>11430.0</td>\n",
       "      <td>11253.0</td>\n",
       "      <td>36.86</td>\n",
       "      <td>36.75</td>\n",
       "      <td>0.00</td>\n",
       "      <td>0.11</td>\n",
       "      <td>34.91</td>\n",
       "      <td>34.82</td>\n",
       "      <td>0.0</td>\n",
       "      <td>0.09</td>\n",
       "      <td>36.0</td>\n",
       "      <td>29.0</td>\n",
       "      <td>1</td>\n",
       "    </tr>\n",
       "    <tr>\n",
       "      <th>2011-01-01 02:00:00</th>\n",
       "      <td>2</td>\n",
       "      <td>10966.0</td>\n",
       "      <td>10459.0</td>\n",
       "      <td>35.92</td>\n",
       "      <td>35.91</td>\n",
       "      <td>0.00</td>\n",
       "      <td>0.01</td>\n",
       "      <td>35.46</td>\n",
       "      <td>35.29</td>\n",
       "      <td>0.0</td>\n",
       "      <td>0.17</td>\n",
       "      <td>35.0</td>\n",
       "      <td>29.0</td>\n",
       "      <td>1</td>\n",
       "    </tr>\n",
       "    <tr>\n",
       "      <th>2011-01-01 03:00:00</th>\n",
       "      <td>3</td>\n",
       "      <td>10725.0</td>\n",
       "      <td>10531.0</td>\n",
       "      <td>35.94</td>\n",
       "      <td>35.91</td>\n",
       "      <td>0.00</td>\n",
       "      <td>0.03</td>\n",
       "      <td>34.14</td>\n",
       "      <td>33.97</td>\n",
       "      <td>0.0</td>\n",
       "      <td>0.17</td>\n",
       "      <td>35.0</td>\n",
       "      <td>30.0</td>\n",
       "      <td>1</td>\n",
       "    </tr>\n",
       "    <tr>\n",
       "      <th>2011-01-01 04:00:00</th>\n",
       "      <td>4</td>\n",
       "      <td>10672.0</td>\n",
       "      <td>10841.0</td>\n",
       "      <td>36.05</td>\n",
       "      <td>36.04</td>\n",
       "      <td>0.00</td>\n",
       "      <td>0.01</td>\n",
       "      <td>33.63</td>\n",
       "      <td>33.49</td>\n",
       "      <td>0.0</td>\n",
       "      <td>0.14</td>\n",
       "      <td>36.0</td>\n",
       "      <td>31.0</td>\n",
       "      <td>1</td>\n",
       "    </tr>\n",
       "    <tr>\n",
       "      <th>2011-01-01 05:00:00</th>\n",
       "      <td>5</td>\n",
       "      <td>10852.0</td>\n",
       "      <td>10661.0</td>\n",
       "      <td>36.05</td>\n",
       "      <td>36.12</td>\n",
       "      <td>0.00</td>\n",
       "      <td>-0.07</td>\n",
       "      <td>34.25</td>\n",
       "      <td>34.11</td>\n",
       "      <td>0.0</td>\n",
       "      <td>0.14</td>\n",
       "      <td>36.0</td>\n",
       "      <td>31.0</td>\n",
       "      <td>1</td>\n",
       "    </tr>\n",
       "    <tr>\n",
       "      <th>2011-01-01 06:00:00</th>\n",
       "      <td>6</td>\n",
       "      <td>11255.0</td>\n",
       "      <td>11640.0</td>\n",
       "      <td>37.29</td>\n",
       "      <td>37.51</td>\n",
       "      <td>0.00</td>\n",
       "      <td>-0.22</td>\n",
       "      <td>34.01</td>\n",
       "      <td>33.90</td>\n",
       "      <td>0.0</td>\n",
       "      <td>0.11</td>\n",
       "      <td>36.0</td>\n",
       "      <td>32.0</td>\n",
       "      <td>1</td>\n",
       "    </tr>\n",
       "    <tr>\n",
       "      <th>2011-01-01 07:00:00</th>\n",
       "      <td>7</td>\n",
       "      <td>11583.0</td>\n",
       "      <td>11972.0</td>\n",
       "      <td>37.97</td>\n",
       "      <td>38.68</td>\n",
       "      <td>0.00</td>\n",
       "      <td>-0.71</td>\n",
       "      <td>30.08</td>\n",
       "      <td>30.02</td>\n",
       "      <td>0.0</td>\n",
       "      <td>0.06</td>\n",
       "      <td>35.0</td>\n",
       "      <td>31.0</td>\n",
       "      <td>1</td>\n",
       "    </tr>\n",
       "    <tr>\n",
       "      <th>2011-01-01 08:00:00</th>\n",
       "      <td>8</td>\n",
       "      <td>12238.0</td>\n",
       "      <td>12735.0</td>\n",
       "      <td>39.36</td>\n",
       "      <td>44.27</td>\n",
       "      <td>-4.15</td>\n",
       "      <td>-0.76</td>\n",
       "      <td>32.28</td>\n",
       "      <td>32.23</td>\n",
       "      <td>0.0</td>\n",
       "      <td>0.05</td>\n",
       "      <td>35.0</td>\n",
       "      <td>32.0</td>\n",
       "      <td>1</td>\n",
       "    </tr>\n",
       "    <tr>\n",
       "      <th>2011-01-01 09:00:00</th>\n",
       "      <td>9</td>\n",
       "      <td>12877.0</td>\n",
       "      <td>13503.0</td>\n",
       "      <td>38.88</td>\n",
       "      <td>39.50</td>\n",
       "      <td>0.00</td>\n",
       "      <td>-0.62</td>\n",
       "      <td>32.79</td>\n",
       "      <td>32.71</td>\n",
       "      <td>0.0</td>\n",
       "      <td>0.08</td>\n",
       "      <td>39.0</td>\n",
       "      <td>34.0</td>\n",
       "      <td>1</td>\n",
       "    </tr>\n",
       "  </tbody>\n",
       "</table>\n",
       "</div>"
      ],
      "text/plain": [
       "                     Unnamed: 0  RTDemand  DADemand  DALMP   DAEC  DACC  \\\n",
       "Date                                                                      \n",
       "2011-01-01 00:00:00           0   12055.0   11722.0  38.51  38.37  0.00   \n",
       "2011-01-01 01:00:00           1   11430.0   11253.0  36.86  36.75  0.00   \n",
       "2011-01-01 02:00:00           2   10966.0   10459.0  35.92  35.91  0.00   \n",
       "2011-01-01 03:00:00           3   10725.0   10531.0  35.94  35.91  0.00   \n",
       "2011-01-01 04:00:00           4   10672.0   10841.0  36.05  36.04  0.00   \n",
       "2011-01-01 05:00:00           5   10852.0   10661.0  36.05  36.12  0.00   \n",
       "2011-01-01 06:00:00           6   11255.0   11640.0  37.29  37.51  0.00   \n",
       "2011-01-01 07:00:00           7   11583.0   11972.0  37.97  38.68  0.00   \n",
       "2011-01-01 08:00:00           8   12238.0   12735.0  39.36  44.27 -4.15   \n",
       "2011-01-01 09:00:00           9   12877.0   13503.0  38.88  39.50  0.00   \n",
       "\n",
       "                     DAMLC  RTLMP   RTEC  RTCC  RTMLC  DryBulb  DewPoint  ZONE  \n",
       "Date                                                                            \n",
       "2011-01-01 00:00:00   0.14  41.57  41.48   0.0   0.09     36.0      29.0     1  \n",
       "2011-01-01 01:00:00   0.11  34.91  34.82   0.0   0.09     36.0      29.0     1  \n",
       "2011-01-01 02:00:00   0.01  35.46  35.29   0.0   0.17     35.0      29.0     1  \n",
       "2011-01-01 03:00:00   0.03  34.14  33.97   0.0   0.17     35.0      30.0     1  \n",
       "2011-01-01 04:00:00   0.01  33.63  33.49   0.0   0.14     36.0      31.0     1  \n",
       "2011-01-01 05:00:00  -0.07  34.25  34.11   0.0   0.14     36.0      31.0     1  \n",
       "2011-01-01 06:00:00  -0.22  34.01  33.90   0.0   0.11     36.0      32.0     1  \n",
       "2011-01-01 07:00:00  -0.71  30.08  30.02   0.0   0.06     35.0      31.0     1  \n",
       "2011-01-01 08:00:00  -0.76  32.28  32.23   0.0   0.05     35.0      32.0     1  \n",
       "2011-01-01 09:00:00  -0.62  32.79  32.71   0.0   0.08     39.0      34.0     1  "
      ]
     },
     "execution_count": 3,
     "metadata": {},
     "output_type": "execute_result"
    }
   ],
   "source": [
    "gc_df = pd.read_csv('zn1Data_big.csv', infer_datetime_format=True)\n",
    "gc_df.set_index('Date', inplace=True)\n",
    "gc_df.head(10)"
   ]
  },
  {
   "cell_type": "code",
   "execution_count": 4,
   "metadata": {},
   "outputs": [],
   "source": [
    "gc_df.drop(columns=['Unnamed: 0'], inplace=True)"
   ]
  },
  {
   "cell_type": "code",
   "execution_count": 5,
   "metadata": {},
   "outputs": [],
   "source": [
    "gc_df['RTDemand'].replace(0.0, np.nan, inplace=True)\n",
    "gc_df['RTDemand'].fillna(method='ffill', inplace=True)"
   ]
  },
  {
   "cell_type": "code",
   "execution_count": 6,
   "metadata": {},
   "outputs": [
    {
     "data": {
      "text/plain": [
       "<matplotlib.axes._subplots.AxesSubplot at 0x7f14555973d0>"
      ]
     },
     "execution_count": 6,
     "metadata": {},
     "output_type": "execute_result"
    },
    {
     "data": {
      "image/png": "[encoded data removed]",
      "text/plain": [
       "<Figure size 432x288 with 1 Axes>"
      ]
     },
     "metadata": {
      "needs_background": "light"
     },
     "output_type": "display_data"
    }
   ],
   "source": [
    "gc_df['RTDemand'][24:8760].plot()"
   ]
  },
  {
   "cell_type": "code",
   "execution_count": 7,
   "metadata": {},
   "outputs": [
    {
     "data": {
      "text/html": [
       "<div>\n",
       "<style scoped>\n",
       "    .dataframe tbody tr th:only-of-type {\n",
       "        vertical-align: middle;\n",
       "    }\n",
       "\n",
       "    .dataframe tbody tr th {\n",
       "        vertical-align: top;\n",
       "    }\n",
       "\n",
       "    .dataframe thead th {\n",
       "        text-align: right;\n",
       "    }\n",
       "</style>\n",
       "<table border=\"1\" class=\"dataframe\">\n",
       "  <thead>\n",
       "    <tr style=\"text-align: right;\">\n",
       "      <th></th>\n",
       "      <th>RTDemand</th>\n",
       "      <th>DADemand</th>\n",
       "      <th>DALMP</th>\n",
       "      <th>DAEC</th>\n",
       "      <th>DACC</th>\n",
       "      <th>DAMLC</th>\n",
       "      <th>RTLMP</th>\n",
       "      <th>RTEC</th>\n",
       "      <th>RTCC</th>\n",
       "      <th>RTMLC</th>\n",
       "      <th>DryBulb</th>\n",
       "      <th>DewPoint</th>\n",
       "      <th>ZONE</th>\n",
       "    </tr>\n",
       "  </thead>\n",
       "  <tbody>\n",
       "    <tr>\n",
       "      <th>RTDemand</th>\n",
       "      <td>1.000000</td>\n",
       "      <td>0.977080</td>\n",
       "      <td>0.442104</td>\n",
       "      <td>0.445661</td>\n",
       "      <td>-0.023751</td>\n",
       "      <td>0.152479</td>\n",
       "      <td>0.402194</td>\n",
       "      <td>0.408048</td>\n",
       "      <td>-0.034435</td>\n",
       "      <td>0.116079</td>\n",
       "      <td>0.205051</td>\n",
       "      <td>0.082827</td>\n",
       "      <td>NaN</td>\n",
       "    </tr>\n",
       "    <tr>\n",
       "      <th>DADemand</th>\n",
       "      <td>0.977080</td>\n",
       "      <td>1.000000</td>\n",
       "      <td>0.428871</td>\n",
       "      <td>0.432052</td>\n",
       "      <td>-0.022464</td>\n",
       "      <td>0.169525</td>\n",
       "      <td>0.362882</td>\n",
       "      <td>0.368052</td>\n",
       "      <td>-0.029625</td>\n",
       "      <td>0.108818</td>\n",
       "      <td>0.214733</td>\n",
       "      <td>0.093497</td>\n",
       "      <td>NaN</td>\n",
       "    </tr>\n",
       "    <tr>\n",
       "      <th>DALMP</th>\n",
       "      <td>0.442104</td>\n",
       "      <td>0.428871</td>\n",
       "      <td>1.000000</td>\n",
       "      <td>0.997859</td>\n",
       "      <td>0.031291</td>\n",
       "      <td>0.776977</td>\n",
       "      <td>0.782653</td>\n",
       "      <td>0.779834</td>\n",
       "      <td>0.115018</td>\n",
       "      <td>0.759487</td>\n",
       "      <td>-0.397712</td>\n",
       "      <td>-0.432217</td>\n",
       "      <td>NaN</td>\n",
       "    </tr>\n",
       "    <tr>\n",
       "      <th>DAEC</th>\n",
       "      <td>0.445661</td>\n",
       "      <td>0.432052</td>\n",
       "      <td>0.997859</td>\n",
       "      <td>1.000000</td>\n",
       "      <td>-0.033794</td>\n",
       "      <td>0.772423</td>\n",
       "      <td>0.781217</td>\n",
       "      <td>0.778614</td>\n",
       "      <td>0.111314</td>\n",
       "      <td>0.754186</td>\n",
       "      <td>-0.395775</td>\n",
       "      <td>-0.431202</td>\n",
       "      <td>NaN</td>\n",
       "    </tr>\n",
       "    <tr>\n",
       "      <th>DACC</th>\n",
       "      <td>-0.023751</td>\n",
       "      <td>-0.022464</td>\n",
       "      <td>0.031291</td>\n",
       "      <td>-0.033794</td>\n",
       "      <td>1.000000</td>\n",
       "      <td>0.003497</td>\n",
       "      <td>0.022644</td>\n",
       "      <td>0.020200</td>\n",
       "      <td>0.046754</td>\n",
       "      <td>0.042897</td>\n",
       "      <td>-0.009420</td>\n",
       "      <td>-0.000134</td>\n",
       "      <td>NaN</td>\n",
       "    </tr>\n",
       "    <tr>\n",
       "      <th>DAMLC</th>\n",
       "      <td>0.152479</td>\n",
       "      <td>0.169525</td>\n",
       "      <td>0.776977</td>\n",
       "      <td>0.772423</td>\n",
       "      <td>0.003497</td>\n",
       "      <td>1.000000</td>\n",
       "      <td>0.597040</td>\n",
       "      <td>0.589553</td>\n",
       "      <td>0.149013</td>\n",
       "      <td>0.816285</td>\n",
       "      <td>-0.428603</td>\n",
       "      <td>-0.425758</td>\n",
       "      <td>NaN</td>\n",
       "    </tr>\n",
       "    <tr>\n",
       "      <th>RTLMP</th>\n",
       "      <td>0.402194</td>\n",
       "      <td>0.362882</td>\n",
       "      <td>0.782653</td>\n",
       "      <td>0.781217</td>\n",
       "      <td>0.022644</td>\n",
       "      <td>0.597040</td>\n",
       "      <td>1.000000</td>\n",
       "      <td>0.998726</td>\n",
       "      <td>0.142540</td>\n",
       "      <td>0.752172</td>\n",
       "      <td>-0.296412</td>\n",
       "      <td>-0.309828</td>\n",
       "      <td>NaN</td>\n",
       "    </tr>\n",
       "    <tr>\n",
       "      <th>RTEC</th>\n",
       "      <td>0.408048</td>\n",
       "      <td>0.368052</td>\n",
       "      <td>0.779834</td>\n",
       "      <td>0.778614</td>\n",
       "      <td>0.020200</td>\n",
       "      <td>0.589553</td>\n",
       "      <td>0.998726</td>\n",
       "      <td>1.000000</td>\n",
       "      <td>0.092802</td>\n",
       "      <td>0.742827</td>\n",
       "      <td>-0.291708</td>\n",
       "      <td>-0.305749</td>\n",
       "      <td>NaN</td>\n",
       "    </tr>\n",
       "    <tr>\n",
       "      <th>RTCC</th>\n",
       "      <td>-0.034435</td>\n",
       "      <td>-0.029625</td>\n",
       "      <td>0.115018</td>\n",
       "      <td>0.111314</td>\n",
       "      <td>0.046754</td>\n",
       "      <td>0.149013</td>\n",
       "      <td>0.142540</td>\n",
       "      <td>0.092802</td>\n",
       "      <td>1.000000</td>\n",
       "      <td>0.191479</td>\n",
       "      <td>-0.084378</td>\n",
       "      <td>-0.077857</td>\n",
       "      <td>NaN</td>\n",
       "    </tr>\n",
       "    <tr>\n",
       "      <th>RTMLC</th>\n",
       "      <td>0.116079</td>\n",
       "      <td>0.108818</td>\n",
       "      <td>0.759487</td>\n",
       "      <td>0.754186</td>\n",
       "      <td>0.042897</td>\n",
       "      <td>0.816285</td>\n",
       "      <td>0.752172</td>\n",
       "      <td>0.742827</td>\n",
       "      <td>0.191479</td>\n",
       "      <td>1.000000</td>\n",
       "      <td>-0.453785</td>\n",
       "      <td>-0.440923</td>\n",
       "      <td>NaN</td>\n",
       "    </tr>\n",
       "    <tr>\n",
       "      <th>DryBulb</th>\n",
       "      <td>0.205051</td>\n",
       "      <td>0.214733</td>\n",
       "      <td>-0.397712</td>\n",
       "      <td>-0.395775</td>\n",
       "      <td>-0.009420</td>\n",
       "      <td>-0.428603</td>\n",
       "      <td>-0.296412</td>\n",
       "      <td>-0.291708</td>\n",
       "      <td>-0.084378</td>\n",
       "      <td>-0.453785</td>\n",
       "      <td>1.000000</td>\n",
       "      <td>0.915139</td>\n",
       "      <td>NaN</td>\n",
       "    </tr>\n",
       "    <tr>\n",
       "      <th>DewPoint</th>\n",
       "      <td>0.082827</td>\n",
       "      <td>0.093497</td>\n",
       "      <td>-0.432217</td>\n",
       "      <td>-0.431202</td>\n",
       "      <td>-0.000134</td>\n",
       "      <td>-0.425758</td>\n",
       "      <td>-0.309828</td>\n",
       "      <td>-0.305749</td>\n",
       "      <td>-0.077857</td>\n",
       "      <td>-0.440923</td>\n",
       "      <td>0.915139</td>\n",
       "      <td>1.000000</td>\n",
       "      <td>NaN</td>\n",
       "    </tr>\n",
       "    <tr>\n",
       "      <th>ZONE</th>\n",
       "      <td>NaN</td>\n",
       "      <td>NaN</td>\n",
       "      <td>NaN</td>\n",
       "      <td>NaN</td>\n",
       "      <td>NaN</td>\n",
       "      <td>NaN</td>\n",
       "      <td>NaN</td>\n",
       "      <td>NaN</td>\n",
       "      <td>NaN</td>\n",
       "      <td>NaN</td>\n",
       "      <td>NaN</td>\n",
       "      <td>NaN</td>\n",
       "      <td>NaN</td>\n",
       "    </tr>\n",
       "  </tbody>\n",
       "</table>\n",
       "</div>"
      ],
      "text/plain": [
       "          RTDemand  DADemand     DALMP      DAEC      DACC     DAMLC  \\\n",
       "RTDemand  1.000000  0.977080  0.442104  0.445661 -0.023751  0.152479   \n",
       "DADemand  0.977080  1.000000  0.428871  0.432052 -0.022464  0.169525   \n",
       "DALMP     0.442104  0.428871  1.000000  0.997859  0.031291  0.776977   \n",
       "DAEC      0.445661  0.432052  0.997859  1.000000 -0.033794  0.772423   \n",
       "DACC     -0.023751 -0.022464  0.031291 -0.033794  1.000000  0.003497   \n",
       "DAMLC     0.152479  0.169525  0.776977  0.772423  0.003497  1.000000   \n",
       "RTLMP     0.402194  0.362882  0.782653  0.781217  0.022644  0.597040   \n",
       "RTEC      0.408048  0.368052  0.779834  0.778614  0.020200  0.589553   \n",
       "RTCC     -0.034435 -0.029625  0.115018  0.111314  0.046754  0.149013   \n",
       "RTMLC     0.116079  0.108818  0.759487  0.754186  0.042897  0.816285   \n",
       "DryBulb   0.205051  0.214733 -0.397712 -0.395775 -0.009420 -0.428603   \n",
       "DewPoint  0.082827  0.093497 -0.432217 -0.431202 -0.000134 -0.425758   \n",
       "ZONE           NaN       NaN       NaN       NaN       NaN       NaN   \n",
       "\n",
       "             RTLMP      RTEC      RTCC     RTMLC   DryBulb  DewPoint  ZONE  \n",
       "RTDemand  0.402194  0.408048 -0.034435  0.116079  0.205051  0.082827   NaN  \n",
       "DADemand  0.362882  0.368052 -0.029625  0.108818  0.214733  0.093497   NaN  \n",
       "DALMP     0.782653  0.779834  0.115018  0.759487 -0.397712 -0.432217   NaN  \n",
       "DAEC      0.781217  0.778614  0.111314  0.754186 -0.395775 -0.431202   NaN  \n",
       "DACC      0.022644  0.020200  0.046754  0.042897 -0.009420 -0.000134   NaN  \n",
       "DAMLC     0.597040  0.589553  0.149013  0.816285 -0.428603 -0.425758   NaN  \n",
       "RTLMP     1.000000  0.998726  0.142540  0.752172 -0.296412 -0.309828   NaN  \n",
       "RTEC      0.998726  1.000000  0.092802  0.742827 -0.291708 -0.305749   NaN  \n",
       "RTCC      0.142540  0.092802  1.000000  0.191479 -0.084378 -0.077857   NaN  \n",
       "RTMLC     0.752172  0.742827  0.191479  1.000000 -0.453785 -0.440923   NaN  \n",
       "DryBulb  -0.296412 -0.291708 -0.084378 -0.453785  1.000000  0.915139   NaN  \n",
       "DewPoint -0.309828 -0.305749 -0.077857 -0.440923  0.915139  1.000000   NaN  \n",
       "ZONE           NaN       NaN       NaN       NaN       NaN       NaN   NaN  "
      ]
     },
     "execution_count": 7,
     "metadata": {},
     "output_type": "execute_result"
    }
   ],
   "source": [
    "gc_df.corr()\n",
    "# heatmap next?"
   ]
  },
  {
   "cell_type": "code",
   "execution_count": 8,
   "metadata": {},
   "outputs": [],
   "source": [
    "#gc_df = gc_df.head(500) # Tiny dataset to be sure the models all compile/run!"
   ]
  },
  {
   "cell_type": "code",
   "execution_count": 9,
   "metadata": {},
   "outputs": [],
   "source": [
    "window_size = 72 # 3 days\n",
    "\n",
    "(X, y) = window_data(gc_df, window_size, 0, 0)"
   ]
  },
  {
   "cell_type": "code",
   "execution_count": 10,
   "metadata": {},
   "outputs": [
    {
     "data": {
      "text/plain": [
       "(77346, 1)"
      ]
     },
     "execution_count": 10,
     "metadata": {},
     "output_type": "execute_result"
    }
   ],
   "source": [
    "y.shape\n"
   ]
  },
  {
   "cell_type": "code",
   "execution_count": 11,
   "metadata": {},
   "outputs": [
    {
     "data": {
      "text/plain": [
       "(77346, 72)"
      ]
     },
     "execution_count": 11,
     "metadata": {},
     "output_type": "execute_result"
    }
   ],
   "source": [
    "X.shape"
   ]
  },
  {
   "cell_type": "code",
   "execution_count": 12,
   "metadata": {},
   "outputs": [],
   "source": [
    "(dry_bulb, _) = window_data(gc_df, window_size, 10, 1)\n",
    "(dew_pt, _) = window_data(gc_df, window_size, 11, 1)\n",
    "(DADemand, _) = window_data(gc_df, window_size, 1, 1)\n",
    "(DALMP, _) = window_data(gc_df, window_size, 2, 1)\n",
    "(DAEC, _) = window_data(gc_df, window_size, 3, 1)\n",
    "(DACC, _) = window_data(gc_df, window_size, 4, 1)\n",
    "(DAMLC, _) = window_data(gc_df, window_size, 5, 1)\n",
    "(RTLMP, _) = window_data(gc_df, window_size, 6, 1)\n",
    "(RTEC, _) = window_data(gc_df, window_size, 7, 1)\n",
    "(RTCC, _) = window_data(gc_df, window_size, 8, 1)\n",
    "(RTMLC, _) = window_data(gc_df, window_size, 9, 1)"
   ]
  },
  {
   "cell_type": "code",
   "execution_count": 13,
   "metadata": {},
   "outputs": [
    {
     "data": {
      "text/plain": [
       "array([29., 29., 29., 30., 31., 31., 32., 31., 32., 34., 35., 37., 38.,\n",
       "       39., 39., 38., 37., 37., 37., 36., 37., 38., 38., 40., 41., 41.,\n",
       "       41., 41., 42., 42., 42., 42., 41., 42., 43., 43., 43., 43., 42.,\n",
       "       42., 39., 38., 35., 33., 31., 28., 26., 23., 21., 19., 17., 16.,\n",
       "       15., 15., 13., 12., 12., 11., 11., 10., 10., 10., 10.,  9., 10.,\n",
       "       10., 11., 11., 11., 12., 12., 12.])"
      ]
     },
     "execution_count": 13,
     "metadata": {},
     "output_type": "execute_result"
    }
   ],
   "source": [
    "dew_pt[0]"
   ]
  },
  {
   "cell_type": "code",
   "execution_count": 14,
   "metadata": {},
   "outputs": [],
   "source": [
    "from sklearn.preprocessing import StandardScaler\n",
    "\n",
    "scaler = StandardScaler()\n",
    "X = scaler.fit_transform(X)\n",
    "dry_bulb = scaler.fit_transform(dry_bulb)\n",
    "dew_pt = scaler.fit_transform(dew_pt)\n",
    "\n",
    "DADemand = scaler.fit_transform(DADemand)\n",
    "DALMP = scaler.fit_transform(DALMP)\n",
    "DAEC = scaler.fit_transform(DAEC)\n",
    "DACC = scaler.fit_transform(DACC)\n",
    "DAMLC = scaler.fit_transform(DAMLC)\n",
    "RTLMP = scaler.fit_transform(RTLMP)\n",
    "RTEC = scaler.fit_transform(RTEC)\n",
    "RTCC = scaler.fit_transform(RTCC)\n",
    "RTMLC = scaler.fit_transform(RTMLC)\n"
   ]
  },
  {
   "cell_type": "markdown",
   "metadata": {},
   "source": [
    "DADemand\n",
    "DALMP\n",
    "DAEC\n",
    "DACC\n",
    "DAMLC\n",
    "RTLMP\n",
    "RTEC\n",
    "RTCC\n",
    "RTMLC"
   ]
  },
  {
   "cell_type": "code",
   "execution_count": 15,
   "metadata": {},
   "outputs": [],
   "source": [
    "split = int(0.8 * len(X))\n",
    "X_train = X[: split - 1]\n",
    "X_test = X[split:]\n",
    "\n",
    "db_train = dry_bulb[: split - 1]\n",
    "db_test = dry_bulb[split:]\n",
    "\n",
    "dew_train = dew_pt[: split - 1]\n",
    "dew_test = dew_pt[split:]\n",
    "\n",
    "y_train = y[: split - 1]\n",
    "y_test = y[split:]\n",
    "\n",
    "DADemand_train = DADemand[: split - 1]\n",
    "DALMP_train = DALMP[: split - 1]\n",
    "DAEC_train = DAEC[: split - 1]\n",
    "DACC_train = DACC[: split - 1]\n",
    "DAMLC_train = DAMLC[: split - 1]\n",
    "RTLMP_train = RTLMP[: split - 1]\n",
    "RTEC_train = RTEC[: split - 1]\n",
    "RTCC_train = RTCC[: split - 1]\n",
    "RTMLC_train = RTMLC[: split - 1]\n",
    "\n",
    "DADemand_test = DADemand[split:]\n",
    "DALMP_test = DALMP[split:]\n",
    "DAEC_test = DAEC[split:]\n",
    "DACC_test = DACC[split:]\n",
    "DAMLC_test = DAMLC[split:]\n",
    "RTLMP_test = RTLMP[split:]\n",
    "RTEC_test = RTEC[split:]\n",
    "RTCC_test = RTCC[split:]\n",
    "RTMLC_test = RTMLC[split:]\n",
    "\n",
    "\n",
    "\n",
    "\n",
    "X_train = X_train.reshape((X_train.shape[0], X_train.shape[1], 1))\n",
    "db_train = db_train.reshape((db_train.shape[0], db_train.shape[1], 1))\n",
    "dew_train = dew_train.reshape((dew_train.shape[0], dew_train.shape[1], 1))\n",
    "DADemand_train = DADemand_train.reshape((DADemand_train.shape[0], DADemand_train.shape[1], 1))\n",
    "DALMP_train = DALMP_train.reshape((DALMP_train.shape[0], DALMP_train.shape[1], 1))\n",
    "DAEC_train = DAEC_train.reshape((DAEC_train.shape[0], DAEC_train.shape[1], 1))\n",
    "DACC_train = DACC_train.reshape((DACC_train.shape[0], DACC_train.shape[1], 1))\n",
    "DAMLC_train = DAMLC_train.reshape((DAMLC_train.shape[0], DAMLC_train.shape[1], 1))\n",
    "RTLMP_train = RTLMP_train.reshape((RTLMP_train.shape[0], RTLMP_train.shape[1], 1))\n",
    "RTEC_train = RTEC_train.reshape((RTEC_train.shape[0], RTEC_train.shape[1], 1))\n",
    "RTCC_train = RTCC_train.reshape((RTCC_train.shape[0], RTCC_train.shape[1], 1))\n",
    "RTMLC_train = RTMLC_train.reshape((RTMLC_train.shape[0], RTMLC_train.shape[1], 1))\n",
    "data_train = np.concatenate((X_train, db_train, dew_train, DADemand_train, DALMP_train, DAEC_train, DACC_train, DAMLC_train, RTLMP_train, RTEC_train, RTCC_train, RTMLC_train), axis=2)\n",
    "#data_train = np.concatenate((X_train, DADemand_train), axis=2)\n",
    "\n",
    "\n",
    "X_test = X_test.reshape((X_test.shape[0], X_test.shape[1], 1))\n",
    "db_test = db_test.reshape((db_test.shape[0], db_test.shape[1], 1))\n",
    "dew_test = dew_test.reshape((dew_test.shape[0], dew_test.shape[1], 1))\n",
    "DADemand_test = DADemand_test.reshape((DADemand_test.shape[0], DADemand_test.shape[1], 1))\n",
    "DALMP_test = DALMP_test.reshape((DALMP_test.shape[0], DALMP_test.shape[1], 1))\n",
    "DAEC_test = DAEC_test.reshape((DAEC_test.shape[0], DAEC_test.shape[1], 1))\n",
    "DACC_test = DACC_test.reshape((DACC_test.shape[0], DACC_test.shape[1], 1))\n",
    "DAMLC_test = DAMLC_test.reshape((DAMLC_test.shape[0], DAMLC_test.shape[1], 1))\n",
    "RTLMP_test = RTLMP_test.reshape((RTLMP_test.shape[0], RTLMP_test.shape[1], 1))\n",
    "RTEC_test = RTEC_test.reshape((RTEC_test.shape[0], RTEC_test.shape[1], 1))\n",
    "RTCC_test = RTCC_test.reshape((RTCC_test.shape[0], RTCC_test.shape[1], 1))\n",
    "RTMLC_test = RTMLC_test.reshape((RTMLC_test.shape[0], RTMLC_test.shape[1], 1))\n",
    "data_test = np.concatenate((X_test, db_test, dew_test, DADemand_test, DALMP_test, DAEC_test, DACC_test, DAMLC_test, RTLMP_test, RTEC_test, RTCC_test, RTMLC_test), axis=2)\n",
    "#data_test = np.concatenate((X_test, DADemand_test), axis=2)\n",
    "\n"
   ]
  },
  {
   "cell_type": "code",
   "execution_count": 16,
   "metadata": {},
   "outputs": [
    {
     "data": {
      "text/plain": [
       "(61875, 72, 1)"
      ]
     },
     "execution_count": 16,
     "metadata": {},
     "output_type": "execute_result"
    }
   ],
   "source": [
    "X_train.shape"
   ]
  },
  {
   "cell_type": "markdown",
   "metadata": {},
   "source": [
    "## How about a 1-variable LSTM?"
   ]
  },
  {
   "cell_type": "code",
   "execution_count": 26,
   "metadata": {},
   "outputs": [],
   "source": [
    "def basic_LSTM(window_size=5, n_features=1):\n",
    "    new_model = keras.Sequential()\n",
    "    new_model.add(tf.keras.layers.LSTM(100, input_shape=(window_size, n_features), activation='relu'))\n",
    "    new_model.add(tf.keras.layers.Flatten())\n",
    "    new_model.add(tf.keras.layers.Dense(1500, activation='relu'))\n",
    "    new_model.add(tf.keras.layers.Dense(100, activation='linear'))\n",
    "    new_model.add(tf.keras.layers.Dense(1))\n",
    "    new_model.compile(optimizer=\"adam\", loss=\"mean_squared_error\")    \n",
    "    return new_model"
   ]
  },
  {
   "cell_type": "code",
   "execution_count": 27,
   "metadata": {},
   "outputs": [],
   "source": [
    "ls_model = basic_LSTM(window_size=window_size, n_features=X_train.shape[2])"
   ]
  },
  {
   "cell_type": "code",
   "execution_count": 28,
   "metadata": {},
   "outputs": [
    {
     "name": "stdout",
     "output_type": "stream",
     "text": [
      "Model: \"sequential_2\"\n",
      "_________________________________________________________________\n",
      "Layer (type)                 Output Shape              Param #   \n",
      "=================================================================\n",
      "lstm_2 (LSTM)                (None, 100)               40800     \n",
      "_________________________________________________________________\n",
      "flatten_2 (Flatten)          (None, 100)               0         \n",
      "_________________________________________________________________\n",
      "dense_6 (Dense)              (None, 1500)              151500    \n",
      "_________________________________________________________________\n",
      "dense_7 (Dense)              (None, 100)               150100    \n",
      "_________________________________________________________________\n",
      "dense_8 (Dense)              (None, 1)                 101       \n",
      "=================================================================\n",
      "Total params: 342,501\n",
      "Trainable params: 342,501\n",
      "Non-trainable params: 0\n",
      "_________________________________________________________________\n"
     ]
    }
   ],
   "source": [
    "ls_model.summary()"
   ]
  },
  {
   "cell_type": "code",
   "execution_count": 29,
   "metadata": {},
   "outputs": [
    {
     "name": "stdout",
     "output_type": "stream",
     "text": [
      "Train on 61875 samples\n",
      "Epoch 1/10\n",
      "16600/61875 [=======>......................] - ETA: 33s - loss: nan"
     ]
    },
    {
     "ename": "KeyboardInterrupt",
     "evalue": "",
     "output_type": "error",
     "traceback": [
      "\u001b[0;31m---------------------------------------------------------------------------\u001b[0m",
      "\u001b[0;31mKeyboardInterrupt\u001b[0m                         Traceback (most recent call last)",
      "\u001b[0;32m<ipython-input-29-928ae476bf2a>\u001b[0m in \u001b[0;36m<module>\u001b[0;34m\u001b[0m\n\u001b[0;32m----> 1\u001b[0;31m \u001b[0mls_history\u001b[0m \u001b[0;34m=\u001b[0m \u001b[0mls_model\u001b[0m\u001b[0;34m.\u001b[0m\u001b[0mfit\u001b[0m\u001b[0;34m(\u001b[0m\u001b[0mX_train\u001b[0m \u001b[0;34m,\u001b[0m\u001b[0my_train\u001b[0m\u001b[0;34m,\u001b[0m \u001b[0mepochs\u001b[0m\u001b[0;34m=\u001b[0m\u001b[0;36m10\u001b[0m\u001b[0;34m,\u001b[0m \u001b[0mshuffle\u001b[0m\u001b[0;34m=\u001b[0m\u001b[0;32mFalse\u001b[0m\u001b[0;34m,\u001b[0m \u001b[0mbatch_size\u001b[0m\u001b[0;34m=\u001b[0m\u001b[0;36m100\u001b[0m\u001b[0;34m,\u001b[0m \u001b[0mverbose\u001b[0m\u001b[0;34m=\u001b[0m\u001b[0;36m1\u001b[0m\u001b[0;34m)\u001b[0m\u001b[0;34m\u001b[0m\u001b[0;34m\u001b[0m\u001b[0m\n\u001b[0m",
      "\u001b[0;32m/usr/local/lib/python3.7/dist-packages/tensorflow_core/python/keras/engine/training.py\u001b[0m in \u001b[0;36mfit\u001b[0;34m(self, x, y, batch_size, epochs, verbose, callbacks, validation_split, validation_data, shuffle, class_weight, sample_weight, initial_epoch, steps_per_epoch, validation_steps, validation_freq, max_queue_size, workers, use_multiprocessing, **kwargs)\u001b[0m\n\u001b[1;32m    726\u001b[0m         \u001b[0mmax_queue_size\u001b[0m\u001b[0;34m=\u001b[0m\u001b[0mmax_queue_size\u001b[0m\u001b[0;34m,\u001b[0m\u001b[0;34m\u001b[0m\u001b[0;34m\u001b[0m\u001b[0m\n\u001b[1;32m    727\u001b[0m         \u001b[0mworkers\u001b[0m\u001b[0;34m=\u001b[0m\u001b[0mworkers\u001b[0m\u001b[0;34m,\u001b[0m\u001b[0;34m\u001b[0m\u001b[0;34m\u001b[0m\u001b[0m\n\u001b[0;32m--> 728\u001b[0;31m         use_multiprocessing=use_multiprocessing)\n\u001b[0m\u001b[1;32m    729\u001b[0m \u001b[0;34m\u001b[0m\u001b[0m\n\u001b[1;32m    730\u001b[0m   def evaluate(self,\n",
      "\u001b[0;32m/usr/local/lib/python3.7/dist-packages/tensorflow_core/python/keras/engine/training_v2.py\u001b[0m in \u001b[0;36mfit\u001b[0;34m(self, model, x, y, batch_size, epochs, verbose, callbacks, validation_split, validation_data, shuffle, class_weight, sample_weight, initial_epoch, steps_per_epoch, validation_steps, validation_freq, **kwargs)\u001b[0m\n\u001b[1;32m    322\u001b[0m                 \u001b[0mmode\u001b[0m\u001b[0;34m=\u001b[0m\u001b[0mModeKeys\u001b[0m\u001b[0;34m.\u001b[0m\u001b[0mTRAIN\u001b[0m\u001b[0;34m,\u001b[0m\u001b[0;34m\u001b[0m\u001b[0;34m\u001b[0m\u001b[0m\n\u001b[1;32m    323\u001b[0m                 \u001b[0mtraining_context\u001b[0m\u001b[0;34m=\u001b[0m\u001b[0mtraining_context\u001b[0m\u001b[0;34m,\u001b[0m\u001b[0;34m\u001b[0m\u001b[0;34m\u001b[0m\u001b[0m\n\u001b[0;32m--> 324\u001b[0;31m                 total_epochs=epochs)\n\u001b[0m\u001b[1;32m    325\u001b[0m             \u001b[0mcbks\u001b[0m\u001b[0;34m.\u001b[0m\u001b[0mmake_logs\u001b[0m\u001b[0;34m(\u001b[0m\u001b[0mmodel\u001b[0m\u001b[0;34m,\u001b[0m \u001b[0mepoch_logs\u001b[0m\u001b[0;34m,\u001b[0m \u001b[0mtraining_result\u001b[0m\u001b[0;34m,\u001b[0m \u001b[0mModeKeys\u001b[0m\u001b[0;34m.\u001b[0m\u001b[0mTRAIN\u001b[0m\u001b[0;34m)\u001b[0m\u001b[0;34m\u001b[0m\u001b[0;34m\u001b[0m\u001b[0m\n\u001b[1;32m    326\u001b[0m \u001b[0;34m\u001b[0m\u001b[0m\n",
      "\u001b[0;32m/usr/local/lib/python3.7/dist-packages/tensorflow_core/python/keras/engine/training_v2.py\u001b[0m in \u001b[0;36mrun_one_epoch\u001b[0;34m(model, iterator, execution_function, dataset_size, batch_size, strategy, steps_per_epoch, num_samples, mode, training_context, total_epochs)\u001b[0m\n\u001b[1;32m    121\u001b[0m         step=step, mode=mode, size=current_batch_size) as batch_logs:\n\u001b[1;32m    122\u001b[0m       \u001b[0;32mtry\u001b[0m\u001b[0;34m:\u001b[0m\u001b[0;34m\u001b[0m\u001b[0;34m\u001b[0m\u001b[0m\n\u001b[0;32m--> 123\u001b[0;31m         \u001b[0mbatch_outs\u001b[0m \u001b[0;34m=\u001b[0m \u001b[0mexecution_function\u001b[0m\u001b[0;34m(\u001b[0m\u001b[0miterator\u001b[0m\u001b[0;34m)\u001b[0m\u001b[0;34m\u001b[0m\u001b[0;34m\u001b[0m\u001b[0m\n\u001b[0m\u001b[1;32m    124\u001b[0m       \u001b[0;32mexcept\u001b[0m \u001b[0;34m(\u001b[0m\u001b[0mStopIteration\u001b[0m\u001b[0;34m,\u001b[0m \u001b[0merrors\u001b[0m\u001b[0;34m.\u001b[0m\u001b[0mOutOfRangeError\u001b[0m\u001b[0;34m)\u001b[0m\u001b[0;34m:\u001b[0m\u001b[0;34m\u001b[0m\u001b[0;34m\u001b[0m\u001b[0m\n\u001b[1;32m    125\u001b[0m         \u001b[0;31m# TODO(kaftan): File bug about tf function and errors.OutOfRangeError?\u001b[0m\u001b[0;34m\u001b[0m\u001b[0;34m\u001b[0m\u001b[0;34m\u001b[0m\u001b[0m\n",
      "\u001b[0;32m/usr/local/lib/python3.7/dist-packages/tensorflow_core/python/keras/engine/training_v2_utils.py\u001b[0m in \u001b[0;36mexecution_function\u001b[0;34m(input_fn)\u001b[0m\n\u001b[1;32m     84\u001b[0m     \u001b[0;31m# `numpy` translates Tensors to values in Eager mode.\u001b[0m\u001b[0;34m\u001b[0m\u001b[0;34m\u001b[0m\u001b[0;34m\u001b[0m\u001b[0m\n\u001b[1;32m     85\u001b[0m     return nest.map_structure(_non_none_constant_value,\n\u001b[0;32m---> 86\u001b[0;31m                               distributed_function(input_fn))\n\u001b[0m\u001b[1;32m     87\u001b[0m \u001b[0;34m\u001b[0m\u001b[0m\n\u001b[1;32m     88\u001b[0m   \u001b[0;32mreturn\u001b[0m \u001b[0mexecution_function\u001b[0m\u001b[0;34m\u001b[0m\u001b[0;34m\u001b[0m\u001b[0m\n",
      "\u001b[0;32m/usr/local/lib/python3.7/dist-packages/tensorflow_core/python/eager/def_function.py\u001b[0m in \u001b[0;36m__call__\u001b[0;34m(self, *args, **kwds)\u001b[0m\n\u001b[1;32m    455\u001b[0m \u001b[0;34m\u001b[0m\u001b[0m\n\u001b[1;32m    456\u001b[0m     \u001b[0mtracing_count\u001b[0m \u001b[0;34m=\u001b[0m \u001b[0mself\u001b[0m\u001b[0;34m.\u001b[0m\u001b[0m_get_tracing_count\u001b[0m\u001b[0;34m(\u001b[0m\u001b[0;34m)\u001b[0m\u001b[0;34m\u001b[0m\u001b[0;34m\u001b[0m\u001b[0m\n\u001b[0;32m--> 457\u001b[0;31m     \u001b[0mresult\u001b[0m \u001b[0;34m=\u001b[0m \u001b[0mself\u001b[0m\u001b[0;34m.\u001b[0m\u001b[0m_call\u001b[0m\u001b[0;34m(\u001b[0m\u001b[0;34m*\u001b[0m\u001b[0margs\u001b[0m\u001b[0;34m,\u001b[0m \u001b[0;34m**\u001b[0m\u001b[0mkwds\u001b[0m\u001b[0;34m)\u001b[0m\u001b[0;34m\u001b[0m\u001b[0;34m\u001b[0m\u001b[0m\n\u001b[0m\u001b[1;32m    458\u001b[0m     \u001b[0;32mif\u001b[0m \u001b[0mtracing_count\u001b[0m \u001b[0;34m==\u001b[0m \u001b[0mself\u001b[0m\u001b[0;34m.\u001b[0m\u001b[0m_get_tracing_count\u001b[0m\u001b[0;34m(\u001b[0m\u001b[0;34m)\u001b[0m\u001b[0;34m:\u001b[0m\u001b[0;34m\u001b[0m\u001b[0;34m\u001b[0m\u001b[0m\n\u001b[1;32m    459\u001b[0m       \u001b[0mself\u001b[0m\u001b[0;34m.\u001b[0m\u001b[0m_call_counter\u001b[0m\u001b[0;34m.\u001b[0m\u001b[0mcalled_without_tracing\u001b[0m\u001b[0;34m(\u001b[0m\u001b[0;34m)\u001b[0m\u001b[0;34m\u001b[0m\u001b[0;34m\u001b[0m\u001b[0m\n",
      "\u001b[0;32m/usr/local/lib/python3.7/dist-packages/tensorflow_core/python/eager/def_function.py\u001b[0m in \u001b[0;36m_call\u001b[0;34m(self, *args, **kwds)\u001b[0m\n\u001b[1;32m    485\u001b[0m       \u001b[0;31m# In this case we have created variables on the first call, so we run the\u001b[0m\u001b[0;34m\u001b[0m\u001b[0;34m\u001b[0m\u001b[0;34m\u001b[0m\u001b[0m\n\u001b[1;32m    486\u001b[0m       \u001b[0;31m# defunned version which is guaranteed to never create variables.\u001b[0m\u001b[0;34m\u001b[0m\u001b[0;34m\u001b[0m\u001b[0;34m\u001b[0m\u001b[0m\n\u001b[0;32m--> 487\u001b[0;31m       \u001b[0;32mreturn\u001b[0m \u001b[0mself\u001b[0m\u001b[0;34m.\u001b[0m\u001b[0m_stateless_fn\u001b[0m\u001b[0;34m(\u001b[0m\u001b[0;34m*\u001b[0m\u001b[0margs\u001b[0m\u001b[0;34m,\u001b[0m \u001b[0;34m**\u001b[0m\u001b[0mkwds\u001b[0m\u001b[0;34m)\u001b[0m  \u001b[0;31m# pylint: disable=not-callable\u001b[0m\u001b[0;34m\u001b[0m\u001b[0;34m\u001b[0m\u001b[0m\n\u001b[0m\u001b[1;32m    488\u001b[0m     \u001b[0;32melif\u001b[0m \u001b[0mself\u001b[0m\u001b[0;34m.\u001b[0m\u001b[0m_stateful_fn\u001b[0m \u001b[0;32mis\u001b[0m \u001b[0;32mnot\u001b[0m \u001b[0;32mNone\u001b[0m\u001b[0;34m:\u001b[0m\u001b[0;34m\u001b[0m\u001b[0;34m\u001b[0m\u001b[0m\n\u001b[1;32m    489\u001b[0m       \u001b[0;31m# Release the lock early so that multiple threads can perform the call\u001b[0m\u001b[0;34m\u001b[0m\u001b[0;34m\u001b[0m\u001b[0;34m\u001b[0m\u001b[0m\n",
      "\u001b[0;32m/usr/local/lib/python3.7/dist-packages/tensorflow_core/python/eager/function.py\u001b[0m in \u001b[0;36m__call__\u001b[0;34m(self, *args, **kwargs)\u001b[0m\n\u001b[1;32m   1821\u001b[0m     \u001b[0;34m\"\"\"Calls a graph function specialized to the inputs.\"\"\"\u001b[0m\u001b[0;34m\u001b[0m\u001b[0;34m\u001b[0m\u001b[0m\n\u001b[1;32m   1822\u001b[0m     \u001b[0mgraph_function\u001b[0m\u001b[0;34m,\u001b[0m \u001b[0margs\u001b[0m\u001b[0;34m,\u001b[0m \u001b[0mkwargs\u001b[0m \u001b[0;34m=\u001b[0m \u001b[0mself\u001b[0m\u001b[0;34m.\u001b[0m\u001b[0m_maybe_define_function\u001b[0m\u001b[0;34m(\u001b[0m\u001b[0margs\u001b[0m\u001b[0;34m,\u001b[0m \u001b[0mkwargs\u001b[0m\u001b[0;34m)\u001b[0m\u001b[0;34m\u001b[0m\u001b[0;34m\u001b[0m\u001b[0m\n\u001b[0;32m-> 1823\u001b[0;31m     \u001b[0;32mreturn\u001b[0m \u001b[0mgraph_function\u001b[0m\u001b[0;34m.\u001b[0m\u001b[0m_filtered_call\u001b[0m\u001b[0;34m(\u001b[0m\u001b[0margs\u001b[0m\u001b[0;34m,\u001b[0m \u001b[0mkwargs\u001b[0m\u001b[0;34m)\u001b[0m  \u001b[0;31m# pylint: disable=protected-access\u001b[0m\u001b[0;34m\u001b[0m\u001b[0;34m\u001b[0m\u001b[0m\n\u001b[0m\u001b[1;32m   1824\u001b[0m \u001b[0;34m\u001b[0m\u001b[0m\n\u001b[1;32m   1825\u001b[0m   \u001b[0;34m@\u001b[0m\u001b[0mproperty\u001b[0m\u001b[0;34m\u001b[0m\u001b[0;34m\u001b[0m\u001b[0m\n",
      "\u001b[0;32m/usr/local/lib/python3.7/dist-packages/tensorflow_core/python/eager/function.py\u001b[0m in \u001b[0;36m_filtered_call\u001b[0;34m(self, args, kwargs)\u001b[0m\n\u001b[1;32m   1139\u001b[0m          if isinstance(t, (ops.Tensor,\n\u001b[1;32m   1140\u001b[0m                            resource_variable_ops.BaseResourceVariable))),\n\u001b[0;32m-> 1141\u001b[0;31m         self.captured_inputs)\n\u001b[0m\u001b[1;32m   1142\u001b[0m \u001b[0;34m\u001b[0m\u001b[0m\n\u001b[1;32m   1143\u001b[0m   \u001b[0;32mdef\u001b[0m \u001b[0m_call_flat\u001b[0m\u001b[0;34m(\u001b[0m\u001b[0mself\u001b[0m\u001b[0;34m,\u001b[0m \u001b[0margs\u001b[0m\u001b[0;34m,\u001b[0m \u001b[0mcaptured_inputs\u001b[0m\u001b[0;34m,\u001b[0m \u001b[0mcancellation_manager\u001b[0m\u001b[0;34m=\u001b[0m\u001b[0;32mNone\u001b[0m\u001b[0;34m)\u001b[0m\u001b[0;34m:\u001b[0m\u001b[0;34m\u001b[0m\u001b[0;34m\u001b[0m\u001b[0m\n",
      "\u001b[0;32m/usr/local/lib/python3.7/dist-packages/tensorflow_core/python/eager/function.py\u001b[0m in \u001b[0;36m_call_flat\u001b[0;34m(self, args, captured_inputs, cancellation_manager)\u001b[0m\n\u001b[1;32m   1222\u001b[0m     \u001b[0;32mif\u001b[0m \u001b[0mexecuting_eagerly\u001b[0m\u001b[0;34m:\u001b[0m\u001b[0;34m\u001b[0m\u001b[0;34m\u001b[0m\u001b[0m\n\u001b[1;32m   1223\u001b[0m       flat_outputs = forward_function.call(\n\u001b[0;32m-> 1224\u001b[0;31m           ctx, args, cancellation_manager=cancellation_manager)\n\u001b[0m\u001b[1;32m   1225\u001b[0m     \u001b[0;32melse\u001b[0m\u001b[0;34m:\u001b[0m\u001b[0;34m\u001b[0m\u001b[0;34m\u001b[0m\u001b[0m\n\u001b[1;32m   1226\u001b[0m       \u001b[0mgradient_name\u001b[0m \u001b[0;34m=\u001b[0m \u001b[0mself\u001b[0m\u001b[0;34m.\u001b[0m\u001b[0m_delayed_rewrite_functions\u001b[0m\u001b[0;34m.\u001b[0m\u001b[0mregister\u001b[0m\u001b[0;34m(\u001b[0m\u001b[0;34m)\u001b[0m\u001b[0;34m\u001b[0m\u001b[0;34m\u001b[0m\u001b[0m\n",
      "\u001b[0;32m/usr/local/lib/python3.7/dist-packages/tensorflow_core/python/eager/function.py\u001b[0m in \u001b[0;36mcall\u001b[0;34m(self, ctx, args, cancellation_manager)\u001b[0m\n\u001b[1;32m    509\u001b[0m               \u001b[0minputs\u001b[0m\u001b[0;34m=\u001b[0m\u001b[0margs\u001b[0m\u001b[0;34m,\u001b[0m\u001b[0;34m\u001b[0m\u001b[0;34m\u001b[0m\u001b[0m\n\u001b[1;32m    510\u001b[0m               \u001b[0mattrs\u001b[0m\u001b[0;34m=\u001b[0m\u001b[0;34m(\u001b[0m\u001b[0;34m\"executor_type\"\u001b[0m\u001b[0;34m,\u001b[0m \u001b[0mexecutor_type\u001b[0m\u001b[0;34m,\u001b[0m \u001b[0;34m\"config_proto\"\u001b[0m\u001b[0;34m,\u001b[0m \u001b[0mconfig\u001b[0m\u001b[0;34m)\u001b[0m\u001b[0;34m,\u001b[0m\u001b[0;34m\u001b[0m\u001b[0;34m\u001b[0m\u001b[0m\n\u001b[0;32m--> 511\u001b[0;31m               ctx=ctx)\n\u001b[0m\u001b[1;32m    512\u001b[0m         \u001b[0;32melse\u001b[0m\u001b[0;34m:\u001b[0m\u001b[0;34m\u001b[0m\u001b[0;34m\u001b[0m\u001b[0m\n\u001b[1;32m    513\u001b[0m           outputs = execute.execute_with_cancellation(\n",
      "\u001b[0;32m/usr/local/lib/python3.7/dist-packages/tensorflow_core/python/eager/execute.py\u001b[0m in \u001b[0;36mquick_execute\u001b[0;34m(op_name, num_outputs, inputs, attrs, ctx, name)\u001b[0m\n\u001b[1;32m     59\u001b[0m     tensors = pywrap_tensorflow.TFE_Py_Execute(ctx._handle, device_name,\n\u001b[1;32m     60\u001b[0m                                                \u001b[0mop_name\u001b[0m\u001b[0;34m,\u001b[0m \u001b[0minputs\u001b[0m\u001b[0;34m,\u001b[0m \u001b[0mattrs\u001b[0m\u001b[0;34m,\u001b[0m\u001b[0;34m\u001b[0m\u001b[0;34m\u001b[0m\u001b[0m\n\u001b[0;32m---> 61\u001b[0;31m                                                num_outputs)\n\u001b[0m\u001b[1;32m     62\u001b[0m   \u001b[0;32mexcept\u001b[0m \u001b[0mcore\u001b[0m\u001b[0;34m.\u001b[0m\u001b[0m_NotOkStatusException\u001b[0m \u001b[0;32mas\u001b[0m \u001b[0me\u001b[0m\u001b[0;34m:\u001b[0m\u001b[0;34m\u001b[0m\u001b[0;34m\u001b[0m\u001b[0m\n\u001b[1;32m     63\u001b[0m     \u001b[0;32mif\u001b[0m \u001b[0mname\u001b[0m \u001b[0;32mis\u001b[0m \u001b[0;32mnot\u001b[0m \u001b[0;32mNone\u001b[0m\u001b[0;34m:\u001b[0m\u001b[0;34m\u001b[0m\u001b[0;34m\u001b[0m\u001b[0m\n",
      "\u001b[0;31mKeyboardInterrupt\u001b[0m: "
     ]
    }
   ],
   "source": [
    "ls_history = ls_model.fit(X_train ,y_train, epochs=10, shuffle=False, batch_size=100, verbose=1)"
   ]
  },
  {
   "cell_type": "code",
   "execution_count": 21,
   "metadata": {},
   "outputs": [
    {
     "data": {
      "image/png": "[encoded data removed]",
      "text/plain": [
       "<Figure size 432x288 with 1 Axes>"
      ]
     },
     "metadata": {
      "needs_background": "light"
     },
     "output_type": "display_data"
    }
   ],
   "source": [
    "plt.plot(ls_history.history[\"loss\"])\n",
    "plt.title(\"loss_function - LSTM Basic\")\n",
    "plt.legend([\"loss\"])\n",
    "plt.show()"
   ]
  },
  {
   "cell_type": "code",
   "execution_count": 22,
   "metadata": {},
   "outputs": [
    {
     "data": {
      "text/plain": [
       "1174830.0587427279"
      ]
     },
     "execution_count": 22,
     "metadata": {},
     "output_type": "execute_result"
    }
   ],
   "source": [
    "ls_model.evaluate(X_test, y_test, verbose=0)"
   ]
  },
  {
   "cell_type": "code",
   "execution_count": 23,
   "metadata": {},
   "outputs": [
    {
     "data": {
      "text/plain": [
       "0.8451637094740732"
      ]
     },
     "execution_count": 23,
     "metadata": {},
     "output_type": "execute_result"
    }
   ],
   "source": [
    "from sklearn.metrics import r2_score\n",
    "predictions = ls_model.predict(X_test)\n",
    "test_r2 = r2_score(y_test, predictions)\n",
    "test_r2"
   ]
  },
  {
   "cell_type": "code",
   "execution_count": 24,
   "metadata": {},
   "outputs": [
    {
     "data": {
      "text/plain": [
       "<matplotlib.axes._subplots.AxesSubplot at 0x7fc440ea25d0>"
      ]
     },
     "execution_count": 24,
     "metadata": {},
     "output_type": "execute_result"
    },
    {
     "data": {
      "image/png": "[encoded data removed]",
      "text/plain": [
       "<Figure size 432x288 with 1 Axes>"
      ]
     },
     "metadata": {
      "needs_background": "light"
     },
     "output_type": "display_data"
    }
   ],
   "source": [
    "lstm_acc_df = pd.DataFrame()\n",
    "lstm_acc_df['Actual'] = y_test[:,0]\n",
    "lstm_acc_df['Predict'] = predictions[:,0]\n",
    "lstm_acc_df[48:240].plot()"
   ]
  },
  {
   "cell_type": "markdown",
   "metadata": {},
   "source": [
    "# 1D Convolution with 1 variable\n"
   ]
  },
  {
   "cell_type": "code",
   "execution_count": 24,
   "metadata": {},
   "outputs": [],
   "source": [
    "def basic_conv1D(n_filters=10, fsize=5, window_size=5, n_features=2):\n",
    "    new_model = keras.Sequential()\n",
    "    # Hypothetically, we could also tune the padding and activation here.\n",
    "    new_model.add(tf.keras.layers.Conv1D(n_filters, fsize, padding=\"same\", activation=\"relu\", input_shape=(window_size, n_features)))\n",
    "    # Flatten will take our convolution filters and lay them out end to end so our dense layer can predict based on the outcomes of each\n",
    "    new_model.add(tf.keras.layers.Flatten())\n",
    "    new_model.add(tf.keras.layers.Dense(1800, activation='relu'))\n",
    "    new_model.add(tf.keras.layers.Dense(100))\n",
    "    new_model.add(tf.keras.layers.Dense(1))\n",
    "    new_model.compile(optimizer=\"adam\", loss=\"mean_squared_error\")    \n",
    "    return new_model\n"
   ]
  },
  {
   "cell_type": "code",
   "execution_count": 25,
   "metadata": {},
   "outputs": [],
   "source": [
    "univar_model = basic_conv1D(n_filters=24, fsize=8, window_size=window_size, n_features=X_train.shape[2])"
   ]
  },
  {
   "cell_type": "code",
   "execution_count": 26,
   "metadata": {},
   "outputs": [
    {
     "name": "stdout",
     "output_type": "stream",
     "text": [
      "Model: \"sequential_1\"\n",
      "_________________________________________________________________\n",
      "Layer (type)                 Output Shape              Param #   \n",
      "=================================================================\n",
      "conv1d (Conv1D)              (None, 72, 24)            216       \n",
      "_________________________________________________________________\n",
      "flatten_1 (Flatten)          (None, 1728)              0         \n",
      "_________________________________________________________________\n",
      "dense_3 (Dense)              (None, 1800)              3112200   \n",
      "_________________________________________________________________\n",
      "dense_4 (Dense)              (None, 100)               180100    \n",
      "_________________________________________________________________\n",
      "dense_5 (Dense)              (None, 1)                 101       \n",
      "=================================================================\n",
      "Total params: 3,292,617\n",
      "Trainable params: 3,292,617\n",
      "Non-trainable params: 0\n",
      "_________________________________________________________________\n"
     ]
    }
   ],
   "source": [
    "univar_model.summary()"
   ]
  },
  {
   "cell_type": "code",
   "execution_count": 27,
   "metadata": {},
   "outputs": [
    {
     "name": "stdout",
     "output_type": "stream",
     "text": [
      "Train on 61875 samples\n",
      "Epoch 1/10\n",
      "61875/61875 [==============================] - 110s 2ms/sample - loss: 3373622.6293\n",
      "Epoch 2/10\n",
      "61875/61875 [==============================] - 109s 2ms/sample - loss: 903452.3404\n",
      "Epoch 3/10\n",
      "61875/61875 [==============================] - 109s 2ms/sample - loss: 594056.2459\n",
      "Epoch 4/10\n",
      "61875/61875 [==============================] - 110s 2ms/sample - loss: 430210.8427\n",
      "Epoch 5/10\n",
      "61875/61875 [==============================] - 109s 2ms/sample - loss: 352022.9304\n",
      "Epoch 6/10\n",
      "61875/61875 [==============================] - 109s 2ms/sample - loss: 299500.0900\n",
      "Epoch 7/10\n",
      "61875/61875 [==============================] - 110s 2ms/sample - loss: 248175.8128\n",
      "Epoch 8/10\n",
      "61875/61875 [==============================] - 109s 2ms/sample - loss: 211657.6709\n",
      "Epoch 9/10\n",
      "61875/61875 [==============================] - 111s 2ms/sample - loss: 191893.8157\n",
      "Epoch 10/10\n",
      "61875/61875 [==============================] - 109s 2ms/sample - loss: 174983.3995\n"
     ]
    }
   ],
   "source": [
    "univar_hist = univar_model.fit(X_train, y_train, epochs=10, shuffle=False, batch_size=10, verbose=1)"
   ]
  },
  {
   "cell_type": "code",
   "execution_count": 28,
   "metadata": {},
   "outputs": [],
   "source": [
    "#y_train"
   ]
  },
  {
   "cell_type": "code",
   "execution_count": 29,
   "metadata": {},
   "outputs": [
    {
     "data": {
      "image/png": "[encoded data removed]",
      "text/plain": [
       "<Figure size 432x288 with 1 Axes>"
      ]
     },
     "metadata": {
      "needs_background": "light"
     },
     "output_type": "display_data"
    }
   ],
   "source": [
    "plt.plot(univar_hist.history[\"loss\"])\n",
    "plt.title(\"loss_function - Conv1D Deep, w/ 1 variable\")\n",
    "plt.legend([\"loss\"])\n",
    "\n",
    "plt.show()"
   ]
  },
  {
   "cell_type": "code",
   "execution_count": 30,
   "metadata": {},
   "outputs": [
    {
     "data": {
      "text/plain": [
       "921088.9656229799"
      ]
     },
     "execution_count": 30,
     "metadata": {},
     "output_type": "execute_result"
    }
   ],
   "source": [
    "univar_model.evaluate(X_test, y_test, verbose=0)"
   ]
  },
  {
   "cell_type": "code",
   "execution_count": 31,
   "metadata": {},
   "outputs": [
    {
     "data": {
      "text/plain": [
       "0.8786054224398805"
      ]
     },
     "execution_count": 31,
     "metadata": {},
     "output_type": "execute_result"
    }
   ],
   "source": [
    "from sklearn.metrics import r2_score\n",
    "predictions = univar_model.predict(X_test)\n",
    "test_r2 = r2_score(y_test, predictions)\n",
    "test_r2"
   ]
  },
  {
   "cell_type": "code",
   "execution_count": 32,
   "metadata": {},
   "outputs": [
    {
     "data": {
      "text/html": [
       "<div>\n",
       "<style scoped>\n",
       "    .dataframe tbody tr th:only-of-type {\n",
       "        vertical-align: middle;\n",
       "    }\n",
       "\n",
       "    .dataframe tbody tr th {\n",
       "        vertical-align: top;\n",
       "    }\n",
       "\n",
       "    .dataframe thead th {\n",
       "        text-align: right;\n",
       "    }\n",
       "</style>\n",
       "<table border=\"1\" class=\"dataframe\">\n",
       "  <thead>\n",
       "    <tr style=\"text-align: right;\">\n",
       "      <th></th>\n",
       "      <th>Actual</th>\n",
       "      <th>Predict</th>\n",
       "    </tr>\n",
       "  </thead>\n",
       "  <tbody>\n",
       "    <tr>\n",
       "      <th>0</th>\n",
       "      <td>16092.869</td>\n",
       "      <td>15189.262695</td>\n",
       "    </tr>\n",
       "    <tr>\n",
       "      <th>1</th>\n",
       "      <td>15745.950</td>\n",
       "      <td>14561.523438</td>\n",
       "    </tr>\n",
       "    <tr>\n",
       "      <th>2</th>\n",
       "      <td>15488.247</td>\n",
       "      <td>14086.809570</td>\n",
       "    </tr>\n",
       "    <tr>\n",
       "      <th>3</th>\n",
       "      <td>15252.608</td>\n",
       "      <td>13980.620117</td>\n",
       "    </tr>\n",
       "    <tr>\n",
       "      <th>4</th>\n",
       "      <td>15253.593</td>\n",
       "      <td>13994.477539</td>\n",
       "    </tr>\n",
       "    <tr>\n",
       "      <th>5</th>\n",
       "      <td>15363.811</td>\n",
       "      <td>14063.493164</td>\n",
       "    </tr>\n",
       "    <tr>\n",
       "      <th>6</th>\n",
       "      <td>15835.579</td>\n",
       "      <td>14401.088867</td>\n",
       "    </tr>\n",
       "    <tr>\n",
       "      <th>7</th>\n",
       "      <td>16778.363</td>\n",
       "      <td>15448.152344</td>\n",
       "    </tr>\n",
       "    <tr>\n",
       "      <th>8</th>\n",
       "      <td>18007.694</td>\n",
       "      <td>16595.259766</td>\n",
       "    </tr>\n",
       "    <tr>\n",
       "      <th>9</th>\n",
       "      <td>18130.813</td>\n",
       "      <td>16833.191406</td>\n",
       "    </tr>\n",
       "  </tbody>\n",
       "</table>\n",
       "</div>"
      ],
      "text/plain": [
       "      Actual       Predict\n",
       "0  16092.869  15189.262695\n",
       "1  15745.950  14561.523438\n",
       "2  15488.247  14086.809570\n",
       "3  15252.608  13980.620117\n",
       "4  15253.593  13994.477539\n",
       "5  15363.811  14063.493164\n",
       "6  15835.579  14401.088867\n",
       "7  16778.363  15448.152344\n",
       "8  18007.694  16595.259766\n",
       "9  18130.813  16833.191406"
      ]
     },
     "execution_count": 32,
     "metadata": {},
     "output_type": "execute_result"
    }
   ],
   "source": [
    "conv_acc_df = pd.DataFrame()\n",
    "conv_acc_df['Actual'] = y_test[:,0]\n",
    "conv_acc_df['Predict'] = predictions[:,0]\n",
    "conv_acc_df.head(10)"
   ]
  },
  {
   "cell_type": "code",
   "execution_count": 33,
   "metadata": {},
   "outputs": [
    {
     "data": {
      "text/plain": [
       "<matplotlib.axes._subplots.AxesSubplot at 0x7f3c326a4d50>"
      ]
     },
     "execution_count": 33,
     "metadata": {},
     "output_type": "execute_result"
    },
    {
     "data": {
      "image/png": "[encoded data removed]",
      "text/plain": [
       "<Figure size 432x288 with 1 Axes>"
      ]
     },
     "metadata": {
      "needs_background": "light"
     },
     "output_type": "display_data"
    }
   ],
   "source": [
    "conv_acc_df[24:480].plot()"
   ]
  },
  {
   "cell_type": "code",
   "execution_count": null,
   "metadata": {},
   "outputs": [],
   "source": []
  },
  {
   "cell_type": "markdown",
   "metadata": {},
   "source": [
    "## Multi-variate 1D conv net:"
   ]
  },
  {
   "cell_type": "code",
   "execution_count": 92,
   "metadata": {},
   "outputs": [
    {
     "data": {
      "text/plain": [
       "(61875, 72, 12)"
      ]
     },
     "execution_count": 92,
     "metadata": {},
     "output_type": "execute_result"
    }
   ],
   "source": [
    "data_train.shape"
   ]
  },
  {
   "cell_type": "code",
   "execution_count": 34,
   "metadata": {},
   "outputs": [],
   "source": [
    "test_model = basic_conv1D(n_filters=25, fsize=8, window_size=window_size, n_features=data_train.shape[2])"
   ]
  },
  {
   "cell_type": "code",
   "execution_count": 35,
   "metadata": {},
   "outputs": [
    {
     "name": "stdout",
     "output_type": "stream",
     "text": [
      "Model: \"sequential_2\"\n",
      "_________________________________________________________________\n",
      "Layer (type)                 Output Shape              Param #   \n",
      "=================================================================\n",
      "conv1d_1 (Conv1D)            (None, 72, 25)            2425      \n",
      "_________________________________________________________________\n",
      "flatten_2 (Flatten)          (None, 1800)              0         \n",
      "_________________________________________________________________\n",
      "dense_6 (Dense)              (None, 1800)              3241800   \n",
      "_________________________________________________________________\n",
      "dense_7 (Dense)              (None, 100)               180100    \n",
      "_________________________________________________________________\n",
      "dense_8 (Dense)              (None, 1)                 101       \n",
      "=================================================================\n",
      "Total params: 3,424,426\n",
      "Trainable params: 3,424,426\n",
      "Non-trainable params: 0\n",
      "_________________________________________________________________\n"
     ]
    }
   ],
   "source": [
    "test_model.summary()"
   ]
  },
  {
   "cell_type": "code",
   "execution_count": 36,
   "metadata": {},
   "outputs": [
    {
     "name": "stdout",
     "output_type": "stream",
     "text": [
      "Train on 61875 samples\n",
      "Epoch 1/10\n",
      "61875/61875 [==============================] - 112s 2ms/sample - loss: 6757805.7699\n",
      "Epoch 2/10\n",
      "61875/61875 [==============================] - 112s 2ms/sample - loss: 2430849.9738\n",
      "Epoch 3/10\n",
      "61875/61875 [==============================] - 112s 2ms/sample - loss: 1534002.6363\n",
      "Epoch 4/10\n",
      "61875/61875 [==============================] - 112s 2ms/sample - loss: 883716.0229\n",
      "Epoch 5/10\n",
      "61875/61875 [==============================] - 112s 2ms/sample - loss: 762074.4609\n",
      "Epoch 6/10\n",
      "61875/61875 [==============================] - 112s 2ms/sample - loss: 593377.1990\n",
      "Epoch 7/10\n",
      "61875/61875 [==============================] - 111s 2ms/sample - loss: 505852.3352\n",
      "Epoch 8/10\n",
      "61875/61875 [==============================] - 112s 2ms/sample - loss: 420105.5836\n",
      "Epoch 9/10\n",
      "61875/61875 [==============================] - 111s 2ms/sample - loss: 381965.5248\n",
      "Epoch 10/10\n",
      "61875/61875 [==============================] - 112s 2ms/sample - loss: 392245.8856\n"
     ]
    }
   ],
   "source": [
    "train_history = test_model.fit(data_train, y_train, epochs=10, shuffle=False, batch_size=10, verbose=1)"
   ]
  },
  {
   "cell_type": "code",
   "execution_count": 37,
   "metadata": {},
   "outputs": [
    {
     "data": {
      "image/png": "[encoded data removed]",
      "text/plain": [
       "<Figure size 432x288 with 1 Axes>"
      ]
     },
     "metadata": {
      "needs_background": "light"
     },
     "output_type": "display_data"
    }
   ],
   "source": [
    "plt.plot(train_history.history[\"loss\"])\n",
    "plt.title(\"loss_function - Conv1D Deep, w/ 12 variable\")\n",
    "plt.legend([\"loss\"])\n",
    "\n",
    "plt.show()"
   ]
  },
  {
   "cell_type": "code",
   "execution_count": 38,
   "metadata": {},
   "outputs": [],
   "source": [
    "#X_test"
   ]
  },
  {
   "cell_type": "code",
   "execution_count": 39,
   "metadata": {},
   "outputs": [],
   "source": [
    "#y_test"
   ]
  },
  {
   "cell_type": "code",
   "execution_count": 40,
   "metadata": {},
   "outputs": [
    {
     "data": {
      "text/plain": [
       "1190440.5917905623"
      ]
     },
     "execution_count": 40,
     "metadata": {},
     "output_type": "execute_result"
    }
   ],
   "source": [
    "test_model.evaluate(data_test, y_test, verbose=0)"
   ]
  },
  {
   "cell_type": "code",
   "execution_count": 41,
   "metadata": {},
   "outputs": [
    {
     "data": {
      "text/plain": [
       "0.8431063253046929"
      ]
     },
     "execution_count": 41,
     "metadata": {},
     "output_type": "execute_result"
    }
   ],
   "source": [
    "from sklearn.metrics import r2_score\n",
    "predictions = test_model.predict(data_test)\n",
    "test_r2 = r2_score(y_test, predictions)\n",
    "test_r2"
   ]
  },
  {
   "cell_type": "code",
   "execution_count": 42,
   "metadata": {},
   "outputs": [
    {
     "data": {
      "text/html": [
       "<div>\n",
       "<style scoped>\n",
       "    .dataframe tbody tr th:only-of-type {\n",
       "        vertical-align: middle;\n",
       "    }\n",
       "\n",
       "    .dataframe tbody tr th {\n",
       "        vertical-align: top;\n",
       "    }\n",
       "\n",
       "    .dataframe thead th {\n",
       "        text-align: right;\n",
       "    }\n",
       "</style>\n",
       "<table border=\"1\" class=\"dataframe\">\n",
       "  <thead>\n",
       "    <tr style=\"text-align: right;\">\n",
       "      <th></th>\n",
       "      <th>Actual</th>\n",
       "      <th>Predict</th>\n",
       "    </tr>\n",
       "  </thead>\n",
       "  <tbody>\n",
       "    <tr>\n",
       "      <th>0</th>\n",
       "      <td>16092.869</td>\n",
       "      <td>17164.814453</td>\n",
       "    </tr>\n",
       "    <tr>\n",
       "      <th>1</th>\n",
       "      <td>15745.950</td>\n",
       "      <td>17168.632812</td>\n",
       "    </tr>\n",
       "    <tr>\n",
       "      <th>2</th>\n",
       "      <td>15488.247</td>\n",
       "      <td>17025.683594</td>\n",
       "    </tr>\n",
       "    <tr>\n",
       "      <th>3</th>\n",
       "      <td>15252.608</td>\n",
       "      <td>16717.927734</td>\n",
       "    </tr>\n",
       "    <tr>\n",
       "      <th>4</th>\n",
       "      <td>15253.593</td>\n",
       "      <td>16480.197266</td>\n",
       "    </tr>\n",
       "    <tr>\n",
       "      <th>5</th>\n",
       "      <td>15363.811</td>\n",
       "      <td>16336.948242</td>\n",
       "    </tr>\n",
       "    <tr>\n",
       "      <th>6</th>\n",
       "      <td>15835.579</td>\n",
       "      <td>16719.464844</td>\n",
       "    </tr>\n",
       "    <tr>\n",
       "      <th>7</th>\n",
       "      <td>16778.363</td>\n",
       "      <td>17872.382812</td>\n",
       "    </tr>\n",
       "    <tr>\n",
       "      <th>8</th>\n",
       "      <td>18007.694</td>\n",
       "      <td>18845.275391</td>\n",
       "    </tr>\n",
       "    <tr>\n",
       "      <th>9</th>\n",
       "      <td>18130.813</td>\n",
       "      <td>18925.900391</td>\n",
       "    </tr>\n",
       "  </tbody>\n",
       "</table>\n",
       "</div>"
      ],
      "text/plain": [
       "      Actual       Predict\n",
       "0  16092.869  17164.814453\n",
       "1  15745.950  17168.632812\n",
       "2  15488.247  17025.683594\n",
       "3  15252.608  16717.927734\n",
       "4  15253.593  16480.197266\n",
       "5  15363.811  16336.948242\n",
       "6  15835.579  16719.464844\n",
       "7  16778.363  17872.382812\n",
       "8  18007.694  18845.275391\n",
       "9  18130.813  18925.900391"
      ]
     },
     "execution_count": 42,
     "metadata": {},
     "output_type": "execute_result"
    }
   ],
   "source": [
    "conv_acc_df = pd.DataFrame()\n",
    "conv_acc_df['Actual'] = y_test[:,0]\n",
    "conv_acc_df['Predict'] = predictions[:,0]\n",
    "conv_acc_df.head(10)"
   ]
  },
  {
   "cell_type": "code",
   "execution_count": 43,
   "metadata": {},
   "outputs": [
    {
     "data": {
      "text/plain": [
       "<matplotlib.axes._subplots.AxesSubplot at 0x7f3c2dc41c50>"
      ]
     },
     "execution_count": 43,
     "metadata": {},
     "output_type": "execute_result"
    },
    {
     "data": {
      "image/png": "[encoded data removed]",
      "text/plain": [
       "<Figure size 432x288 with 1 Axes>"
      ]
     },
     "metadata": {
      "needs_background": "light"
     },
     "output_type": "display_data"
    }
   ],
   "source": [
    "conv_acc_df[24:480].plot()\n"
   ]
  },
  {
   "cell_type": "markdown",
   "metadata": {},
   "source": [
    "## Multi-variate LSTM"
   ]
  },
  {
   "cell_type": "code",
   "execution_count": 97,
   "metadata": {},
   "outputs": [],
   "source": [
    "ls_model = basic_LSTM(window_size=window_size, n_features=data_train.shape[2])"
   ]
  },
  {
   "cell_type": "code",
   "execution_count": 98,
   "metadata": {},
   "outputs": [
    {
     "name": "stdout",
     "output_type": "stream",
     "text": [
      "Model: \"sequential_7\"\n",
      "_________________________________________________________________\n",
      "Layer (type)                 Output Shape              Param #   \n",
      "=================================================================\n",
      "lstm_3 (LSTM)                (None, 72, 100)           45200     \n",
      "_________________________________________________________________\n",
      "flatten_7 (Flatten)          (None, 7200)              0         \n",
      "_________________________________________________________________\n",
      "dense_21 (Dense)             (None, 1500)              10801500  \n",
      "_________________________________________________________________\n",
      "dense_22 (Dense)             (None, 100)               150100    \n",
      "_________________________________________________________________\n",
      "dense_23 (Dense)             (None, 1)                 101       \n",
      "=================================================================\n",
      "Total params: 10,996,901\n",
      "Trainable params: 10,996,901\n",
      "Non-trainable params: 0\n",
      "_________________________________________________________________\n"
     ]
    }
   ],
   "source": [
    "ls_model.summary()\n",
    "# Note: if we're getting nan here, re-check the dataset to see if we're getting any bad data there\n"
   ]
  },
  {
   "cell_type": "code",
   "execution_count": 99,
   "metadata": {},
   "outputs": [
    {
     "data": {
      "text/plain": [
       "False"
      ]
     },
     "execution_count": 99,
     "metadata": {},
     "output_type": "execute_result"
    }
   ],
   "source": [
    "# This will be true if data_train has any nans\n",
    "summa = np.sum(data_train)\n",
    "check_nan = np.isnan(summa)\n",
    "check_nan"
   ]
  },
  {
   "cell_type": "code",
   "execution_count": 103,
   "metadata": {},
   "outputs": [
    {
     "name": "stdout",
     "output_type": "stream",
     "text": [
      "Train on 61875 samples\n",
      "Epoch 1/10\n",
      "61875/61875 [==============================] - 98s 2ms/sample - loss: 17353243.5944\n",
      "Epoch 2/10\n",
      "61875/61875 [==============================] - 102s 2ms/sample - loss: 3894199.4620\n",
      "Epoch 3/10\n",
      "61875/61875 [==============================] - 104s 2ms/sample - loss: 2039165.5416\n",
      "Epoch 4/10\n",
      "61875/61875 [==============================] - 104s 2ms/sample - loss: 1440865.4328\n",
      "Epoch 5/10\n",
      "61875/61875 [==============================] - 108s 2ms/sample - loss: 1172870.2937\n",
      "Epoch 6/10\n",
      "61875/61875 [==============================] - 106s 2ms/sample - loss: 1497879.3899\n",
      "Epoch 7/10\n",
      "61875/61875 [==============================] - 100s 2ms/sample - loss: 1344339.4115\n",
      "Epoch 8/10\n",
      "61875/61875 [==============================] - 103s 2ms/sample - loss: 1321593.1008\n",
      "Epoch 9/10\n",
      "61875/61875 [==============================] - 104s 2ms/sample - loss: 1539892.5339\n",
      "Epoch 10/10\n",
      "61875/61875 [==============================] - 104s 2ms/sample - loss: 1360416.4545\n"
     ]
    }
   ],
   "source": [
    "ls_history = ls_model.fit(data_train ,y_train, epochs=10, shuffle=False, batch_size=100, verbose=1)"
   ]
  },
  {
   "cell_type": "code",
   "execution_count": 104,
   "metadata": {},
   "outputs": [
    {
     "data": {
      "image/png": "[encoded data removed]",
      "text/plain": [
       "<Figure size 432x288 with 1 Axes>"
      ]
     },
     "metadata": {
      "needs_background": "light"
     },
     "output_type": "display_data"
    }
   ],
   "source": [
    "plt.plot(ls_history.history[\"loss\"])\n",
    "plt.title(\"loss_function - LSTM Multivariate\")\n",
    "plt.legend([\"loss\"])\n",
    "plt.show()"
   ]
  },
  {
   "cell_type": "code",
   "execution_count": 107,
   "metadata": {},
   "outputs": [
    {
     "name": "stdout",
     "output_type": "stream",
     "text": [
      "1439643.2088255493\n"
     ]
    }
   ],
   "source": [
    "\n",
    "test = ls_model.evaluate(data_test, y_test, verbose=0)\n",
    "if(not np.isnan(test)):\n",
    "    print(test)\n",
    "else:\n",
    "    print(\"nan failure. :(\")"
   ]
  },
  {
   "cell_type": "code",
   "execution_count": 108,
   "metadata": {},
   "outputs": [
    {
     "name": "stdout",
     "output_type": "stream",
     "text": [
      "0.8102627579239303\n"
     ]
    }
   ],
   "source": [
    "\n",
    "if(not np.isnan(test)):\n",
    "    from sklearn.metrics import r2_score\n",
    "    predictions = ls_model.predict(data_test)\n",
    "    test_r2 = r2_score(y_test, predictions)\n",
    "    print(test_r2)"
   ]
  },
  {
   "cell_type": "code",
   "execution_count": 109,
   "metadata": {},
   "outputs": [
    {
     "data": {
      "image/png": "[encoded data removed]",
      "text/plain": [
       "<Figure size 432x288 with 1 Axes>"
      ]
     },
     "metadata": {
      "needs_background": "light"
     },
     "output_type": "display_data"
    }
   ],
   "source": [
    "if(not np.isnan(test)):\n",
    "    lstm_acc_df = pd.DataFrame()\n",
    "    lstm_acc_df['Actual'] = y_test[:,0]\n",
    "    lstm_acc_df['Predict'] = predictions[:,0]\n",
    "    lstm_acc_df[24:480].plot()"
   ]
  },
  {
   "cell_type": "markdown",
   "metadata": {},
   "source": [
    "## CONV 2D: Game changer\n",
    "Here we create a conv2d with a filter shape of 1 timestep by fsize features, basically turning the convolution window on the Z-axis in our slides. \n",
    "\n",
    "\n"
   ]
  },
  {
   "cell_type": "code",
   "execution_count": 58,
   "metadata": {},
   "outputs": [],
   "source": [
    "def basic_conv2D(n_filters=10, fsize=5, window_size=5, n_features=2):\n",
    "    new_model = keras.Sequential()\n",
    "    # Hypothetically, we could also tune the padding and activation here.\n",
    "    new_model.add(tf.keras.layers.Conv2D(n_filters, (1,fsize), padding=\"same\", activation=\"relu\", input_shape=(window_size, n_features, 1)))\n",
    "    # Flatten will take our convolution filters and lay them out end to end so our dense layer can predict based on the outcomes of each\n",
    "    new_model.add(tf.keras.layers.Flatten())\n",
    "    new_model.add(tf.keras.layers.Dense(1000, activation='relu'))\n",
    "    new_model.add(tf.keras.layers.Dense(100))\n",
    "    new_model.add(tf.keras.layers.Dense(1))\n",
    "    new_model.compile(optimizer=\"adam\", loss=\"mean_squared_error\")    \n",
    "    return new_model"
   ]
  },
  {
   "cell_type": "code",
   "execution_count": 59,
   "metadata": {},
   "outputs": [],
   "source": [
    "data_train_wide = data_train.reshape((data_train.shape[0], data_train.shape[1], data_train.shape[2], 1))\n",
    "data_test_wide = data_test.reshape((data_test.shape[0], data_test.shape[1], data_test.shape[2], 1))"
   ]
  },
  {
   "cell_type": "code",
   "execution_count": 60,
   "metadata": {},
   "outputs": [
    {
     "data": {
      "text/plain": [
       "(61875, 72, 12, 1)"
      ]
     },
     "execution_count": 60,
     "metadata": {},
     "output_type": "execute_result"
    }
   ],
   "source": [
    "data_train_wide.shape"
   ]
  },
  {
   "cell_type": "code",
   "execution_count": 61,
   "metadata": {},
   "outputs": [],
   "source": [
    "m2 = basic_conv2D(n_filters=24, fsize=2, window_size=window_size, n_features=data_train_wide.shape[2])"
   ]
  },
  {
   "cell_type": "code",
   "execution_count": 62,
   "metadata": {},
   "outputs": [
    {
     "name": "stdout",
     "output_type": "stream",
     "text": [
      "Model: \"sequential_4\"\n",
      "_________________________________________________________________\n",
      "Layer (type)                 Output Shape              Param #   \n",
      "=================================================================\n",
      "conv2d (Conv2D)              (None, 72, 12, 24)        72        \n",
      "_________________________________________________________________\n",
      "flatten_4 (Flatten)          (None, 20736)             0         \n",
      "_________________________________________________________________\n",
      "dense_12 (Dense)             (None, 1000)              20737000  \n",
      "_________________________________________________________________\n",
      "dense_13 (Dense)             (None, 100)               100100    \n",
      "_________________________________________________________________\n",
      "dense_14 (Dense)             (None, 1)                 101       \n",
      "=================================================================\n",
      "Total params: 20,837,273\n",
      "Trainable params: 20,837,273\n",
      "Non-trainable params: 0\n",
      "_________________________________________________________________\n"
     ]
    }
   ],
   "source": [
    "m2.summary()"
   ]
  },
  {
   "cell_type": "code",
   "execution_count": 63,
   "metadata": {},
   "outputs": [
    {
     "name": "stdout",
     "output_type": "stream",
     "text": [
      "Train on 61875 samples\n",
      "Epoch 1/10\n",
      "61875/61875 [==============================] - 239s 4ms/sample - loss: 3333101.1274\n",
      "Epoch 2/10\n",
      "61875/61875 [==============================] - 234s 4ms/sample - loss: 300454.4922\n",
      "Epoch 3/10\n",
      "61875/61875 [==============================] - 258s 4ms/sample - loss: 234770.6481\n",
      "Epoch 4/10\n",
      "61875/61875 [==============================] - 291s 5ms/sample - loss: 185101.6956\n",
      "Epoch 5/10\n",
      "61875/61875 [==============================] - 297s 5ms/sample - loss: 161944.8792\n",
      "Epoch 6/10\n",
      "61875/61875 [==============================] - 275s 4ms/sample - loss: 143251.4362\n",
      "Epoch 7/10\n",
      "61875/61875 [==============================] - 236s 4ms/sample - loss: 127758.4972\n",
      "Epoch 8/10\n",
      "61875/61875 [==============================] - 268s 4ms/sample - loss: 119297.8298\n",
      "Epoch 9/10\n",
      "61875/61875 [==============================] - 243s 4ms/sample - loss: 112657.1073\n",
      "Epoch 10/10\n",
      "61875/61875 [==============================] - 234s 4ms/sample - loss: 108458.5306\n"
     ]
    }
   ],
   "source": [
    "m2_hist = m2.fit(data_train_wide, y_train, epochs=10)"
   ]
  },
  {
   "cell_type": "code",
   "execution_count": 64,
   "metadata": {},
   "outputs": [
    {
     "data": {
      "image/png": "[encoded data removed]",
      "text/plain": [
       "<Figure size 432x288 with 1 Axes>"
      ]
     },
     "metadata": {
      "needs_background": "light"
     },
     "output_type": "display_data"
    }
   ],
   "source": [
    "plt.plot(m2_hist.history[\"loss\"])\n",
    "plt.title(\"loss_function - Conv2D Deep, w/ 12 variable\")\n",
    "plt.legend([\"loss\"])\n",
    "# \n",
    "plt.show()"
   ]
  },
  {
   "cell_type": "code",
   "execution_count": 65,
   "metadata": {},
   "outputs": [
    {
     "data": {
      "text/plain": [
       "68627.36885150695"
      ]
     },
     "execution_count": 65,
     "metadata": {},
     "output_type": "execute_result"
    }
   ],
   "source": [
    "m2.evaluate(data_test_wide, y_test, verbose=0)"
   ]
  },
  {
   "cell_type": "code",
   "execution_count": 66,
   "metadata": {},
   "outputs": [
    {
     "data": {
      "text/plain": [
       "0.9909552814481323"
      ]
     },
     "execution_count": 66,
     "metadata": {},
     "output_type": "execute_result"
    }
   ],
   "source": [
    "from sklearn.metrics import r2_score\n",
    "predictions = m2.predict(data_test_wide)\n",
    "test_r2 = r2_score(y_test, predictions)\n",
    "test_r2"
   ]
  },
  {
   "cell_type": "code",
   "execution_count": 67,
   "metadata": {},
   "outputs": [
    {
     "data": {
      "text/html": [
       "<div>\n",
       "<style scoped>\n",
       "    .dataframe tbody tr th:only-of-type {\n",
       "        vertical-align: middle;\n",
       "    }\n",
       "\n",
       "    .dataframe tbody tr th {\n",
       "        vertical-align: top;\n",
       "    }\n",
       "\n",
       "    .dataframe thead th {\n",
       "        text-align: right;\n",
       "    }\n",
       "</style>\n",
       "<table border=\"1\" class=\"dataframe\">\n",
       "  <thead>\n",
       "    <tr style=\"text-align: right;\">\n",
       "      <th></th>\n",
       "      <th>Actual</th>\n",
       "      <th>Predict</th>\n",
       "    </tr>\n",
       "  </thead>\n",
       "  <tbody>\n",
       "    <tr>\n",
       "      <th>0</th>\n",
       "      <td>16092.869</td>\n",
       "      <td>16453.220703</td>\n",
       "    </tr>\n",
       "    <tr>\n",
       "      <th>1</th>\n",
       "      <td>15745.950</td>\n",
       "      <td>16298.168945</td>\n",
       "    </tr>\n",
       "    <tr>\n",
       "      <th>2</th>\n",
       "      <td>15488.247</td>\n",
       "      <td>15888.483398</td>\n",
       "    </tr>\n",
       "    <tr>\n",
       "      <th>3</th>\n",
       "      <td>15252.608</td>\n",
       "      <td>15474.940430</td>\n",
       "    </tr>\n",
       "    <tr>\n",
       "      <th>4</th>\n",
       "      <td>15253.593</td>\n",
       "      <td>15228.213867</td>\n",
       "    </tr>\n",
       "    <tr>\n",
       "      <th>5</th>\n",
       "      <td>15363.811</td>\n",
       "      <td>15060.584961</td>\n",
       "    </tr>\n",
       "    <tr>\n",
       "      <th>6</th>\n",
       "      <td>15835.579</td>\n",
       "      <td>15249.165039</td>\n",
       "    </tr>\n",
       "    <tr>\n",
       "      <th>7</th>\n",
       "      <td>16778.363</td>\n",
       "      <td>16405.300781</td>\n",
       "    </tr>\n",
       "    <tr>\n",
       "      <th>8</th>\n",
       "      <td>18007.694</td>\n",
       "      <td>17606.994141</td>\n",
       "    </tr>\n",
       "    <tr>\n",
       "      <th>9</th>\n",
       "      <td>18130.813</td>\n",
       "      <td>18313.033203</td>\n",
       "    </tr>\n",
       "  </tbody>\n",
       "</table>\n",
       "</div>"
      ],
      "text/plain": [
       "      Actual       Predict\n",
       "0  16092.869  16453.220703\n",
       "1  15745.950  16298.168945\n",
       "2  15488.247  15888.483398\n",
       "3  15252.608  15474.940430\n",
       "4  15253.593  15228.213867\n",
       "5  15363.811  15060.584961\n",
       "6  15835.579  15249.165039\n",
       "7  16778.363  16405.300781\n",
       "8  18007.694  17606.994141\n",
       "9  18130.813  18313.033203"
      ]
     },
     "execution_count": 67,
     "metadata": {},
     "output_type": "execute_result"
    }
   ],
   "source": [
    "conv_acc_df = pd.DataFrame()\n",
    "conv_acc_df['Actual'] = y_test[:,0]\n",
    "conv_acc_df['Predict'] = predictions[:,0]\n",
    "conv_acc_df.head(10)"
   ]
  },
  {
   "cell_type": "code",
   "execution_count": 68,
   "metadata": {},
   "outputs": [
    {
     "data": {
      "text/plain": [
       "<matplotlib.axes._subplots.AxesSubplot at 0x7f3c17000490>"
      ]
     },
     "execution_count": 68,
     "metadata": {},
     "output_type": "execute_result"
    },
    {
     "data": {
      "image/png": "[encoded data removed]",
      "text/plain": [
       "<Figure size 432x288 with 1 Axes>"
      ]
     },
     "metadata": {
      "needs_background": "light"
     },
     "output_type": "display_data"
    }
   ],
   "source": [
    "conv_acc_df[24:240].plot()"
   ]
  },
  {
   "cell_type": "markdown",
   "metadata": {},
   "source": [
    "# Deeper conv2D\n",
    "\n",
    "\n",
    "\n",
    "I convolved over 2-feature/1-timestep, now I want to convolve over 1-feature/8-timestep, but the 1-feature is actually a 2-feature convolution. \n",
    "\n",
    "<img src=\"resources/deeper.jpg\">\n",
    "\n"
   ]
  },
  {
   "cell_type": "code",
   "execution_count": 69,
   "metadata": {},
   "outputs": [],
   "source": [
    "def deeper_conv2D(n_filters=10, fsize=5, window_size=5, n_features=2, hour_filter=8):\n",
    "    new_model = keras.Sequential()\n",
    "    new_model.add(tf.keras.layers.Conv2D(n_filters, (1,fsize), padding=\"same\", activation=\"linear\", input_shape=(window_size, n_features, 1)))\n",
    "    new_model.add(tf.keras.layers.Conv2D(n_filters, (hour_filter, 1), padding=\"same\", activation=\"relu\"))\n",
    "    # Flatten will take our convolution filters and lay them out end to end so our dense layer can predict based on the outcomes of each\n",
    "    new_model.add(tf.keras.layers.Flatten())\n",
    "    new_model.add(tf.keras.layers.Dense(1000, activation='relu'))\n",
    "    new_model.add(tf.keras.layers.Dense(100))\n",
    "    new_model.add(tf.keras.layers.Dense(1))\n",
    "    new_model.compile(optimizer=\"adam\", loss=\"mean_squared_error\")    \n",
    "    return new_model"
   ]
  },
  {
   "cell_type": "code",
   "execution_count": 70,
   "metadata": {},
   "outputs": [],
   "source": [
    "m3 = deeper_conv2D(n_filters=24, fsize=2, window_size=window_size, n_features=data_train_wide.shape[2], hour_filter=8)"
   ]
  },
  {
   "cell_type": "code",
   "execution_count": 71,
   "metadata": {},
   "outputs": [
    {
     "name": "stdout",
     "output_type": "stream",
     "text": [
      "Model: \"sequential_5\"\n",
      "_________________________________________________________________\n",
      "Layer (type)                 Output Shape              Param #   \n",
      "=================================================================\n",
      "conv2d_1 (Conv2D)            (None, 72, 12, 24)        72        \n",
      "_________________________________________________________________\n",
      "conv2d_2 (Conv2D)            (None, 72, 12, 24)        4632      \n",
      "_________________________________________________________________\n",
      "flatten_5 (Flatten)          (None, 20736)             0         \n",
      "_________________________________________________________________\n",
      "dense_15 (Dense)             (None, 1000)              20737000  \n",
      "_________________________________________________________________\n",
      "dense_16 (Dense)             (None, 100)               100100    \n",
      "_________________________________________________________________\n",
      "dense_17 (Dense)             (None, 1)                 101       \n",
      "=================================================================\n",
      "Total params: 20,841,905\n",
      "Trainable params: 20,841,905\n",
      "Non-trainable params: 0\n",
      "_________________________________________________________________\n"
     ]
    }
   ],
   "source": [
    "m3.summary()"
   ]
  },
  {
   "cell_type": "code",
   "execution_count": 72,
   "metadata": {},
   "outputs": [
    {
     "name": "stdout",
     "output_type": "stream",
     "text": [
      "Train on 61875 samples\n",
      "Epoch 1/10\n",
      "61875/61875 [==============================] - 270s 4ms/sample - loss: 2702396.0686\n",
      "Epoch 2/10\n",
      "61875/61875 [==============================] - 260s 4ms/sample - loss: 259545.2844\n",
      "Epoch 3/10\n",
      "61875/61875 [==============================] - 275s 4ms/sample - loss: 208541.9392\n",
      "Epoch 4/10\n",
      "61875/61875 [==============================] - 276s 4ms/sample - loss: 145264.1884\n",
      "Epoch 5/10\n",
      "61875/61875 [==============================] - 266s 4ms/sample - loss: 126733.4120\n",
      "Epoch 6/10\n",
      "61875/61875 [==============================] - 277s 4ms/sample - loss: 107967.2880\n",
      "Epoch 7/10\n",
      "61875/61875 [==============================] - 265s 4ms/sample - loss: 99217.9270\n",
      "Epoch 8/10\n",
      "61875/61875 [==============================] - 268s 4ms/sample - loss: 83188.1179\n",
      "Epoch 9/10\n",
      "61875/61875 [==============================] - 270s 4ms/sample - loss: 79428.3213\n",
      "Epoch 10/10\n",
      "61875/61875 [==============================] - 282s 5ms/sample - loss: 75911.6892\n"
     ]
    }
   ],
   "source": [
    "m3_hist = m3.fit(data_train_wide, y_train, epochs=10)"
   ]
  },
  {
   "cell_type": "code",
   "execution_count": 73,
   "metadata": {},
   "outputs": [
    {
     "data": {
      "image/png": "[encoded data removed]",
      "text/plain": [
       "<Figure size 432x288 with 1 Axes>"
      ]
     },
     "metadata": {
      "needs_background": "light"
     },
     "output_type": "display_data"
    }
   ],
   "source": [
    "plt.plot(m3_hist.history[\"loss\"])\n",
    "plt.title(\"loss_function - Conv2D->conv2D, w/ 12 variable\")\n",
    "plt.legend([\"loss\"])\n",
    "# \n",
    "plt.show()"
   ]
  },
  {
   "cell_type": "code",
   "execution_count": 74,
   "metadata": {},
   "outputs": [
    {
     "data": {
      "text/plain": [
       "47929.50422238607"
      ]
     },
     "execution_count": 74,
     "metadata": {},
     "output_type": "execute_result"
    }
   ],
   "source": [
    "m3.evaluate(data_test_wide, y_test, verbose=0)"
   ]
  },
  {
   "cell_type": "code",
   "execution_count": 75,
   "metadata": {},
   "outputs": [
    {
     "data": {
      "text/plain": [
       "0.9936831487638945"
      ]
     },
     "execution_count": 75,
     "metadata": {},
     "output_type": "execute_result"
    }
   ],
   "source": [
    "from sklearn.metrics import r2_score\n",
    "predictions = m3.predict(data_test_wide)\n",
    "test_r2 = r2_score(y_test, predictions)\n",
    "test_r2"
   ]
  },
  {
   "cell_type": "code",
   "execution_count": 76,
   "metadata": {},
   "outputs": [
    {
     "data": {
      "text/html": [
       "<div>\n",
       "<style scoped>\n",
       "    .dataframe tbody tr th:only-of-type {\n",
       "        vertical-align: middle;\n",
       "    }\n",
       "\n",
       "    .dataframe tbody tr th {\n",
       "        vertical-align: top;\n",
       "    }\n",
       "\n",
       "    .dataframe thead th {\n",
       "        text-align: right;\n",
       "    }\n",
       "</style>\n",
       "<table border=\"1\" class=\"dataframe\">\n",
       "  <thead>\n",
       "    <tr style=\"text-align: right;\">\n",
       "      <th></th>\n",
       "      <th>Actual</th>\n",
       "      <th>Predict</th>\n",
       "    </tr>\n",
       "  </thead>\n",
       "  <tbody>\n",
       "    <tr>\n",
       "      <th>0</th>\n",
       "      <td>16092.869</td>\n",
       "      <td>16398.658203</td>\n",
       "    </tr>\n",
       "    <tr>\n",
       "      <th>1</th>\n",
       "      <td>15745.950</td>\n",
       "      <td>15983.678711</td>\n",
       "    </tr>\n",
       "    <tr>\n",
       "      <th>2</th>\n",
       "      <td>15488.247</td>\n",
       "      <td>15390.015625</td>\n",
       "    </tr>\n",
       "    <tr>\n",
       "      <th>3</th>\n",
       "      <td>15252.608</td>\n",
       "      <td>15160.970703</td>\n",
       "    </tr>\n",
       "    <tr>\n",
       "      <th>4</th>\n",
       "      <td>15253.593</td>\n",
       "      <td>15124.511719</td>\n",
       "    </tr>\n",
       "    <tr>\n",
       "      <th>5</th>\n",
       "      <td>15363.811</td>\n",
       "      <td>15215.758789</td>\n",
       "    </tr>\n",
       "    <tr>\n",
       "      <th>6</th>\n",
       "      <td>15835.579</td>\n",
       "      <td>15586.958008</td>\n",
       "    </tr>\n",
       "    <tr>\n",
       "      <th>7</th>\n",
       "      <td>16778.363</td>\n",
       "      <td>16709.880859</td>\n",
       "    </tr>\n",
       "    <tr>\n",
       "      <th>8</th>\n",
       "      <td>18007.694</td>\n",
       "      <td>17714.212891</td>\n",
       "    </tr>\n",
       "    <tr>\n",
       "      <th>9</th>\n",
       "      <td>18130.813</td>\n",
       "      <td>17939.414062</td>\n",
       "    </tr>\n",
       "  </tbody>\n",
       "</table>\n",
       "</div>"
      ],
      "text/plain": [
       "      Actual       Predict\n",
       "0  16092.869  16398.658203\n",
       "1  15745.950  15983.678711\n",
       "2  15488.247  15390.015625\n",
       "3  15252.608  15160.970703\n",
       "4  15253.593  15124.511719\n",
       "5  15363.811  15215.758789\n",
       "6  15835.579  15586.958008\n",
       "7  16778.363  16709.880859\n",
       "8  18007.694  17714.212891\n",
       "9  18130.813  17939.414062"
      ]
     },
     "execution_count": 76,
     "metadata": {},
     "output_type": "execute_result"
    }
   ],
   "source": [
    "conv_acc_df = pd.DataFrame()\n",
    "conv_acc_df['Actual'] = y_test[:,0]\n",
    "conv_acc_df['Predict'] = predictions[:,0]\n",
    "conv_acc_df.head(10)"
   ]
  },
  {
   "cell_type": "code",
   "execution_count": 77,
   "metadata": {},
   "outputs": [
    {
     "data": {
      "text/plain": [
       "<matplotlib.axes._subplots.AxesSubplot at 0x7f3c685b03d0>"
      ]
     },
     "execution_count": 77,
     "metadata": {},
     "output_type": "execute_result"
    },
    {
     "data": {
      "image/png": "[encoded data removed]",
      "text/plain": [
       "<Figure size 432x288 with 1 Axes>"
      ]
     },
     "metadata": {
      "needs_background": "light"
     },
     "output_type": "display_data"
    }
   ],
   "source": [
    "conv_acc_df[24:240].plot()"
   ]
  },
  {
   "cell_type": "markdown",
   "metadata": {},
   "source": [
    "## How does it do vs dumb model?\n",
    "\n",
    "Here, my dumb model is to simply predict the previous value as the next value.\n"
   ]
  },
  {
   "cell_type": "code",
   "execution_count": 78,
   "metadata": {},
   "outputs": [
    {
     "data": {
      "text/plain": [
       "array([411577.17812475])"
      ]
     },
     "execution_count": 78,
     "metadata": {},
     "output_type": "execute_result"
    }
   ],
   "source": [
    "# Dumb model\n",
    "prev_val = y_test[0]\n",
    "sse = 0\n",
    "\n",
    "for n in range(0, len(y_test)-1):\n",
    "    err = y_test[n] - prev_val\n",
    "    sq_err = err ** 2\n",
    "    sse = sse + sq_err\n",
    "    prev_val = y_test[n]\n",
    "\n",
    "mse = sse / n\n",
    "mse\n"
   ]
  },
  {
   "cell_type": "code",
   "execution_count": 17,
   "metadata": {},
   "outputs": [
    {
     "data": {
      "text/html": [
       "<div>\n",
       "<style scoped>\n",
       "    .dataframe tbody tr th:only-of-type {\n",
       "        vertical-align: middle;\n",
       "    }\n",
       "\n",
       "    .dataframe tbody tr th {\n",
       "        vertical-align: top;\n",
       "    }\n",
       "\n",
       "    .dataframe thead th {\n",
       "        text-align: right;\n",
       "    }\n",
       "</style>\n",
       "<table border=\"1\" class=\"dataframe\">\n",
       "  <thead>\n",
       "    <tr style=\"text-align: right;\">\n",
       "      <th></th>\n",
       "      <th>actual</th>\n",
       "      <th>dumb_predict</th>\n",
       "    </tr>\n",
       "  </thead>\n",
       "  <tbody>\n",
       "    <tr>\n",
       "      <th>0</th>\n",
       "      <td>16092.869</td>\n",
       "      <td>0.000</td>\n",
       "    </tr>\n",
       "    <tr>\n",
       "      <th>1</th>\n",
       "      <td>15745.950</td>\n",
       "      <td>16092.869</td>\n",
       "    </tr>\n",
       "    <tr>\n",
       "      <th>2</th>\n",
       "      <td>15488.247</td>\n",
       "      <td>15745.950</td>\n",
       "    </tr>\n",
       "    <tr>\n",
       "      <th>3</th>\n",
       "      <td>15252.608</td>\n",
       "      <td>15488.247</td>\n",
       "    </tr>\n",
       "    <tr>\n",
       "      <th>4</th>\n",
       "      <td>15253.593</td>\n",
       "      <td>15252.608</td>\n",
       "    </tr>\n",
       "    <tr>\n",
       "      <th>...</th>\n",
       "      <td>...</td>\n",
       "      <td>...</td>\n",
       "    </tr>\n",
       "    <tr>\n",
       "      <th>15465</th>\n",
       "      <td>14342.179</td>\n",
       "      <td>14399.190</td>\n",
       "    </tr>\n",
       "    <tr>\n",
       "      <th>15466</th>\n",
       "      <td>13908.957</td>\n",
       "      <td>14342.179</td>\n",
       "    </tr>\n",
       "    <tr>\n",
       "      <th>15467</th>\n",
       "      <td>13504.615</td>\n",
       "      <td>13908.957</td>\n",
       "    </tr>\n",
       "    <tr>\n",
       "      <th>15468</th>\n",
       "      <td>12695.970</td>\n",
       "      <td>13504.615</td>\n",
       "    </tr>\n",
       "    <tr>\n",
       "      <th>15469</th>\n",
       "      <td>11708.896</td>\n",
       "      <td>12695.970</td>\n",
       "    </tr>\n",
       "  </tbody>\n",
       "</table>\n",
       "<p>15470 rows × 2 columns</p>\n",
       "</div>"
      ],
      "text/plain": [
       "          actual  dumb_predict\n",
       "0      16092.869         0.000\n",
       "1      15745.950     16092.869\n",
       "2      15488.247     15745.950\n",
       "3      15252.608     15488.247\n",
       "4      15253.593     15252.608\n",
       "...          ...           ...\n",
       "15465  14342.179     14399.190\n",
       "15466  13908.957     14342.179\n",
       "15467  13504.615     13908.957\n",
       "15468  12695.970     13504.615\n",
       "15469  11708.896     12695.970\n",
       "\n",
       "[15470 rows x 2 columns]"
      ]
     },
     "execution_count": 17,
     "metadata": {},
     "output_type": "execute_result"
    }
   ],
   "source": [
    "predict = pd.DataFrame(y_test, columns = [\"dumb_predict\"])\n",
    "predict = predict.shift(1)\n",
    "predict[\"actual\"] = y_test\n",
    "predict.fillna(value=0, inplace=True)\n",
    "correct_cols = [\"actual\", \"dumb_predict\"]\n",
    "predict = predict.reindex(columns=correct_cols)\n",
    "predict\n"
   ]
  },
  {
   "cell_type": "code",
   "execution_count": 18,
   "metadata": {},
   "outputs": [
    {
     "data": {
      "text/plain": [
       "<matplotlib.axes._subplots.AxesSubplot at 0x7f1433c7a1d0>"
      ]
     },
     "execution_count": 18,
     "metadata": {},
     "output_type": "execute_result"
    },
    {
     "data": {
      "image/png": "[encoded data removed]",
      "text/plain": [
       "<Figure size 432x288 with 1 Axes>"
      ]
     },
     "metadata": {
      "needs_background": "light"
     },
     "output_type": "display_data"
    }
   ],
   "source": [
    "predict[24:96].plot()"
   ]
  },
  {
   "cell_type": "code",
   "execution_count": 81,
   "metadata": {},
   "outputs": [
    {
     "data": {
      "text/plain": [
       "0.9435487010187062"
      ]
     },
     "execution_count": 81,
     "metadata": {},
     "output_type": "execute_result"
    }
   ],
   "source": [
    "from sklearn.metrics import r2_score\n",
    "predictions = predict[\"dumb_predict\"].values\n",
    "test_r2 = r2_score(y_test, predictions)\n",
    "test_r2"
   ]
  },
  {
   "cell_type": "code",
   "execution_count": null,
   "metadata": {},
   "outputs": [],
   "source": []
  }
 ],
 "metadata": {
  "kernelspec": {
   "display_name": "Python 3",
   "language": "python",
   "name": "python3"
  },
  "language_info": {
   "codemirror_mode": {
    "name": "ipython",
    "version": 3
   },
   "file_extension": ".py",
   "mimetype": "text/x-python",
   "name": "python",
   "nbconvert_exporter": "python",
   "pygments_lexer": "ipython3",
   "version": "3.7.7"
  }
 },
 "nbformat": 4,
 "nbformat_minor": 4
}
